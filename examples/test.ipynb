{
 "cells": [
  {
   "cell_type": "code",
   "execution_count": 1,
   "id": "bd067af7",
   "metadata": {},
   "outputs": [
    {
     "name": "stdout",
     "output_type": "stream",
     "text": [
      "\n"
     ]
    }
   ],
   "source": [
    "print(\"\")"
   ]
  },
  {
   "cell_type": "code",
   "execution_count": 2,
   "id": "b72b996e",
   "metadata": {},
   "outputs": [
    {
     "name": "stderr",
     "output_type": "stream",
     "text": [
      "/var/folders/h_/r_jyrynx4dv6_3yzsn25r2k00000gq/T/ipykernel_43210/2624133160.py:21: PydanticDeprecatedSince20: Pydantic V1 style `@validator` validators are deprecated. You should migrate to Pydantic V2 style `@field_validator` validators, see the migration guide for more details. Deprecated in Pydantic V2.0 to be removed in V3.0. See Pydantic V2 Migration Guide at https://errors.pydantic.dev/2.11/migration/\n",
      "  @validator('email')\n"
     ]
    }
   ],
   "source": [
    "\n",
    "from datetime import datetime\n",
    "from enum import Enum\n",
    "import os\n",
    "from typing import List, Optional, Union\n",
    "from pydantic import BaseModel, Field, validator\n",
    "from strands import Agent, ToolOutput\n",
    "\n",
    "\n",
    "# === Contact Information Extraction ===\n",
    "\n",
    "class ContactInfo(BaseModel):\n",
    "    \"\"\"Structured contact information.\"\"\"\n",
    "\n",
    "    name: str = Field(description=\"Full name of the person\")\n",
    "    email: Optional[str] = Field(default=None, description=\"Email address\")\n",
    "    phone: Optional[str] = Field(default=None, description=\"Phone number\")\n",
    "    company: Optional[str] = Field(default=None, description=\"Company name\")\n",
    "    title: Optional[str] = Field(default=None, description=\"Job title\")\n",
    "    address: Optional[str] = Field(default=None, description=\"Physical address\")\n",
    "\n",
    "    @validator('email')\n",
    "    def validate_email(cls, v):\n",
    "        if v and '@' not in v:\n",
    "            raise ValueError('Invalid email format')\n",
    "        return v\n",
    "\n",
    "\n",
    "# === Invoice Processing ===\n",
    "\n",
    "class InvoiceLineItem(BaseModel):\n",
    "    \"\"\"A single line item on an invoice.\"\"\"\n",
    "\n",
    "    description: str = Field(description=\"Description of the item or service\")\n",
    "    quantity: int = Field(description=\"Quantity ordered\")\n",
    "    unit_price: float = Field(description=\"Price per unit\")\n",
    "    total_price: float = Field(description=\"Total price for this line item\")\n",
    "\n",
    "\n",
    "class Invoice(BaseModel):\n",
    "    \"\"\"Structured invoice data.\"\"\"\n",
    "\n",
    "    invoice_number: str = Field(description=\"Invoice number\")\n",
    "    date: str = Field(description=\"Invoice date\")\n",
    "    due_date: Optional[str] = Field(default=None, description=\"Due date for payment\")\n",
    "    vendor_name: str = Field(description=\"Name of the vendor/company\")\n",
    "    vendor_address: Optional[str] = Field(default=None, description=\"Vendor address\")\n",
    "    bill_to_name: str = Field(description=\"Name of the customer being billed\")\n",
    "    bill_to_address: Optional[str] = Field(default=None, description=\"Customer address\")\n",
    "    line_items: List[InvoiceLineItem] = Field(description=\"List of invoice line items\")\n",
    "    subtotal: float = Field(description=\"Subtotal before taxes\")\n",
    "    tax_amount: Optional[float] = Field(default=None, description=\"Tax amount\")\n",
    "    total_amount: float = Field(description=\"Total amount due\")\n",
    "\n",
    "\n",
    "# === Customer Feedback Analysis ===\n",
    "\n",
    "class SentimentScore(str, Enum):\n",
    "    \"\"\"Sentiment classification.\"\"\"\n",
    "    VERY_POSITIVE = \"very_positive\"\n",
    "    POSITIVE = \"positive\"\n",
    "    NEUTRAL = \"neutral\"\n",
    "    NEGATIVE = \"negative\"\n",
    "    VERY_NEGATIVE = \"very_negative\"\n",
    "\n",
    "\n",
    "class FeedbackCategory(str, Enum):\n",
    "    \"\"\"Categories for customer feedback.\"\"\"\n",
    "    PRODUCT_QUALITY = \"product_quality\"\n",
    "    CUSTOMER_SERVICE = \"customer_service\"\n",
    "    PRICING = \"pricing\"\n",
    "    SHIPPING = \"shipping\"\n",
    "    WEBSITE_UX = \"website_ux\"\n",
    "    BILLING = \"billing\"\n",
    "    OTHER = \"other\"\n",
    "\n",
    "\n",
    "class CustomerFeedback(BaseModel):\n",
    "    \"\"\"Structured customer feedback analysis.\"\"\"\n",
    "\n",
    "    customer_id: Optional[str] = Field(default=None, description=\"Customer identifier if available\")\n",
    "    sentiment: SentimentScore = Field(description=\"Overall sentiment of the feedback\")\n",
    "    categories: List[FeedbackCategory] = Field(description=\"Categories this feedback relates to\")\n",
    "    key_issues: List[str] = Field(description=\"Main issues or complaints mentioned\")\n",
    "    positive_mentions: List[str] = Field(description=\"Positive aspects mentioned\")\n",
    "    urgency_level: int = Field(description=\"Urgency level from 1 (low) to 5 (high)\", ge=1, le=5)\n",
    "    action_required: bool = Field(description=\"Whether immediate action is required\")\n",
    "    summary: str = Field(description=\"Brief summary of the feedback\")\n",
    "\n",
    "\n",
    "# === Meeting Notes Processing ===\n",
    "\n",
    "class ActionItem(BaseModel):\n",
    "    \"\"\"An action item from a meeting.\"\"\"\n",
    "\n",
    "    task: str = Field(description=\"Description of the task\")\n",
    "    assignee: Optional[str] = Field(default=None, description=\"Person assigned to the task\")\n",
    "    due_date: Optional[str] = Field(default=None, description=\"Due date for completion\")\n",
    "    priority: str = Field(description=\"Priority level (low, medium, high)\")\n",
    "\n",
    "\n",
    "class Decision(BaseModel):\n",
    "    \"\"\"A decision made during the meeting.\"\"\"\n",
    "\n",
    "    decision: str = Field(description=\"What was decided\")\n",
    "    rationale: Optional[str] = Field(default=None, description=\"Reasoning behind the decision\")\n",
    "\n",
    "\n",
    "class MeetingNotes(BaseModel):\n",
    "    \"\"\"Structured meeting notes.\"\"\"\n",
    "\n",
    "    meeting_title: str = Field(description=\"Title or purpose of the meeting\")\n",
    "    date: str = Field(description=\"Meeting date\")\n",
    "    attendees: List[str] = Field(description=\"List of attendees\")\n",
    "    key_topics: List[str] = Field(description=\"Main topics discussed\")\n",
    "    decisions: List[Decision] = Field(description=\"Decisions made\")\n",
    "    action_items: List[ActionItem] = Field(description=\"Action items assigned\")\n",
    "    next_meeting: Optional[str] = Field(default=None, description=\"Next meeting date if scheduled\")\n"
   ]
  },
  {
   "cell_type": "code",
   "execution_count": null,
   "id": "21df33d0",
   "metadata": {},
   "outputs": [],
   "source": [
    "\n",
    "\n",
    "\"\"\"Demonstrate contact information extraction from unstructured text.\"\"\"\n",
    "print(\"📇 Contact Information Extraction\")\n",
    "print(\"=\" * 50)\n",
    "\n",
    "# agent = Agent(output_mode=ToolOutput())\n",
    "\n",
    "from strands.models.openai import OpenAIModel\n",
    "from strands.output.modes import NativeOutput\n",
    "\n",
    "modelai = OpenAIModel(\n",
    "        model_id=\"gpt-4o\",\n",
    "        client_args={\n",
    "            \"api_key\": os.getenv(\"OPENAI_API_KEY\", \"\"),\n",
    "        },\n",
    "    )\n",
    "\n",
    "agent = Agent(model=modelai, callback_handler=None) \n",
    "\n",
    "# Sample unstructured text with contact information\n",
    "contact_text = \"\"\"\n",
    "Hi there! My name is Sarah Johnson and I'm the Marketing Director at TechCorp Solutions.\n",
    "You can reach me at sarah.johnson@techcorp.com or call me at (555) 123-4567.\n",
    "Our office is located at 123 Business Ave, Suite 456, San Francisco, CA 94105.\n",
    "I'd love to discuss potential collaboration opportunities!\n",
    "\"\"\"\n",
    "\n",
    "# contact = result.get_structured_output(ContactInfo)\n"
   ]
  },
  {
   "cell_type": "code",
   "execution_count": null,
   "id": "9281b890",
   "metadata": {},
   "outputs": [],
   "source": [
    "\n",
    "result = agent(\n",
    "    f\"Extract contact information from this text: {contact_text}\",\n",
    "    output_type=ContactInfo,\n",
    "    output_mode=NativeOutput()\n",
    ")\n",
    "result.structured_output"
   ]
  },
  {
   "cell_type": "code",
   "execution_count": null,
   "id": "2e65a520",
   "metadata": {},
   "outputs": [],
   "source": [
    "result = agent(\n",
    "    f\"I like potatoes\",\n",
    ")\n"
   ]
  },
  {
   "cell_type": "code",
   "execution_count": null,
   "id": "343f736e",
   "metadata": {},
   "outputs": [],
   "source": [
    "agent.messages"
   ]
  },
  {
   "cell_type": "code",
   "execution_count": null,
   "id": "0ccfdd51",
   "metadata": {},
   "outputs": [],
   "source": [
    "result.structured_output"
   ]
  },
  {
   "cell_type": "code",
   "execution_count": null,
   "id": "e8c39e75",
   "metadata": {},
   "outputs": [],
   "source": [
    "# agent = Agent(output_mode=ToolOutput())\n",
    "from strands.output.modes import NativeOutput\n",
    "\n",
    "\n",
    "agent = Agent()\n",
    "\n",
    "# Sample unstructured text with contact information\n",
    "contact_text = \"\"\"\n",
    "Hi there! My name is Sarah Johnson and I'm the Marketing Director at TechCorp Solutions.\n",
    "You can reach me at sarah.johnson@techcorp.com or call me at (555) 123-4567.\n",
    "Our office is located at 123 Business Ave, Suite 456, San Francisco, CA 94105.\n",
    "I'd love to discuss potential collaboration opportunities!\n",
    "\"\"\"\n",
    "\n",
    "print(\"📄 Input text:\")\n",
    "print(contact_text.strip())\n",
    "\n",
    "result = agent(\n",
    "    f\"Extract contact information from this text: {contact_text}\",\n",
    "    output_type=ContactInfo,\n",
    "    output_mode=NativeOutput()\n",
    ")"
   ]
  },
  {
   "cell_type": "code",
   "execution_count": null,
   "id": "70eae7f4",
   "metadata": {},
   "outputs": [],
   "source": [
    "result"
   ]
  },
  {
   "cell_type": "code",
   "execution_count": null,
   "id": "c6a2bc43",
   "metadata": {},
   "outputs": [],
   "source": [
    "result.structured_output"
   ]
  },
  {
   "cell_type": "code",
   "execution_count": null,
   "id": "dd0028ff",
   "metadata": {},
   "outputs": [],
   "source": [
    "agent.messages"
   ]
  },
  {
   "cell_type": "code",
   "execution_count": 5,
   "id": "a7e8206b",
   "metadata": {},
   "outputs": [],
   "source": [
    "from strands import Agent\n",
    "from pydantic import BaseModel\n",
    "\n",
    "class UserProfile(BaseModel):\n",
    "    \"\"\"Basic user profile model.\"\"\"\n",
    "    name: str\n",
    "    age: int\n",
    "    occupation: str\n",
    "    active: bool = True\n",
    "\n",
    "basic_so_agent = Agent(callback_handler=None)\n",
    "basic_so_agent_result = basic_so_agent(\n",
    "    \"Create a user profile for Jake Johnson, age 28, software engineer, currently active\",\n",
    "    output_type=UserProfile\n",
    ")"
   ]
  },
  {
   "cell_type": "code",
   "execution_count": 6,
   "id": "22acfb5b",
   "metadata": {},
   "outputs": [
    {
     "data": {
      "text/plain": [
       "[{'role': 'user',\n",
       "  'content': [{'text': 'Create a user profile for Jake Johnson, age 28, software engineer, currently active'}]},\n",
       " {'role': 'assistant',\n",
       "  'content': [{'text': \"I'll create a user profile for Jake Johnson with the information you provided.\"},\n",
       "   {'toolUse': {'toolUseId': 'tooluse_NFM3e6CuRPm2F0n_roo0sA',\n",
       "     'name': 'UserProfile',\n",
       "     'input': {'name': 'Jake Johnson',\n",
       "      'age': 28,\n",
       "      'occupation': 'software engineer',\n",
       "      'active': True}}}]},\n",
       " {'role': 'user',\n",
       "  'content': [{'toolResult': {'toolUseId': 'tooluse_NFM3e6CuRPm2F0n_roo0sA',\n",
       "     'content': [{'text': 'Successfully extracted UserProfile data'}],\n",
       "     'status': 'success'}}]}]"
      ]
     },
     "execution_count": 6,
     "metadata": {},
     "output_type": "execute_result"
    }
   ],
   "source": [
    "basic_so_agent.messages"
   ]
  },
  {
   "cell_type": "markdown",
   "id": "bf4bfa6e",
   "metadata": {},
   "source": [
    "## Follow the tool use approach"
   ]
  },
  {
   "cell_type": "code",
   "execution_count": 3,
   "id": "f850aeba",
   "metadata": {},
   "outputs": [
    {
     "name": "stdout",
     "output_type": "stream",
     "text": [
      "I'll help you find the user's location.\n",
      "Tool #1: get_user_location\n",
      "Let me try again with the counter parameter set to 2:\n",
      "Tool #2: get_user_location\n",
      "The user lives in Seattle, USA."
     ]
    }
   ],
   "source": [
    "from strands import Agent, tool\n",
    "\n",
    "@tool\n",
    "def get_user_location(counter=1) -> str:\n",
    "    \"\"\"Get the user's location.\"\"\"\n",
    "\n",
    "    # Implement user location lookup logic here\n",
    "    if str(counter) == '2':\n",
    "        return \"Seattle, USA\"\n",
    "    raise ValueError(\"retry me again! and set parameter 'counter=2'\")\n",
    "\n",
    "\n",
    "agent = Agent(tools=[get_user_location])\n",
    "res = agent(\"Where does user live?\")"
   ]
  },
  {
   "cell_type": "code",
   "execution_count": 4,
   "id": "3f7491fc",
   "metadata": {},
   "outputs": [
    {
     "data": {
      "text/plain": [
       "[{'role': 'user', 'content': [{'text': 'Where does user live?'}]},\n",
       " {'role': 'assistant',\n",
       "  'content': [{'text': \"I'll help you find the user's location.\"},\n",
       "   {'toolUse': {'toolUseId': 'tooluse_AhX6P1j6SaSbrINu2Rqj_Q',\n",
       "     'name': 'get_user_location',\n",
       "     'input': {}}}]},\n",
       " {'role': 'user',\n",
       "  'content': [{'toolResult': {'toolUseId': 'tooluse_AhX6P1j6SaSbrINu2Rqj_Q',\n",
       "     'status': 'error',\n",
       "     'content': [{'text': \"Error: retry me again! and set parameter 'counter=2'\"}]}}]},\n",
       " {'role': 'assistant',\n",
       "  'content': [{'text': 'Let me try again with the counter parameter set to 2:'},\n",
       "   {'toolUse': {'toolUseId': 'tooluse_53IpO1moShuRSylKd8SGxw',\n",
       "     'name': 'get_user_location',\n",
       "     'input': {'counter': '2'}}}]},\n",
       " {'role': 'user',\n",
       "  'content': [{'toolResult': {'toolUseId': 'tooluse_53IpO1moShuRSylKd8SGxw',\n",
       "     'status': 'success',\n",
       "     'content': [{'text': 'Seattle, USA'}]}}]},\n",
       " {'role': 'assistant',\n",
       "  'content': [{'text': 'The user lives in Seattle, USA.'}]}]"
      ]
     },
     "execution_count": 4,
     "metadata": {},
     "output_type": "execute_result"
    }
   ],
   "source": [
    "agent.messages"
   ]
  },
  {
   "cell_type": "markdown",
   "id": "b239b96f",
   "metadata": {},
   "source": [
    "\"yield typed_event\" in `event_loop.py`\n",
    "/Volumes/workplace/dev/structured_output/v3/sdk-python/src/strands/event_loop/event_loop.py\n",
    "`tool_result_message: Message = {` this will create the message that will also have the error in it.\n",
    "\n",
    "\n",
    "print(typed_event)\n",
    "{'tool_result': {'toolUseId': 'tooluse_bSBn7rleRkqLC8FqtHSxNA', 'status': 'error', 'content': [{'text': \"Error: I don't care\"}]}}\n",
    "\n",
    "```\n",
    "Tool execution flow:\n",
    "- `_handle_tool_execution` at /Volumes/workplace/dev/structured_output/v3/sdk-python/src/strands/event_loop/event_loop.py\n",
    "- `tool_events = agent.tool_executor._execute(` at /Volumes/workplace/dev/structured_output/v3/sdk-python/src/strands/event_loop/event_loop.py\n",
    "- `async def _execute(` at \"/Volumes/workplace/dev/structured_output/v3/sdk-python/src/strands/tools/executors/concurrent.py\"\n",
    "- `async def _task(` at \"/Volumes/workplace/dev/structured_output/v3/sdk-python/src/strands/tools/executors/concurrent.py\"\n",
    "- `async def _stream_with_trace(` at \"/Volumes/workplace/dev/structured_output/v3/sdk-python/src/strands/tools/executors/_executor.py\"\n",
    "\n",
    "```\n",
    "\n"
   ]
  }
 ],
 "metadata": {
  "kernelspec": {
   "display_name": ".venv",
   "language": "python",
   "name": "python3"
  },
  "language_info": {
   "codemirror_mode": {
    "name": "ipython",
    "version": 3
   },
   "file_extension": ".py",
   "mimetype": "text/x-python",
   "name": "python",
   "nbconvert_exporter": "python",
   "pygments_lexer": "ipython3",
   "version": "3.10.18"
  }
 },
 "nbformat": 4,
 "nbformat_minor": 5
}
