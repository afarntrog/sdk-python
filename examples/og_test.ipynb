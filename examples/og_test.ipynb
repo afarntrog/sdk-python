{
 "cells": [
  {
   "cell_type": "code",
   "execution_count": 11,
   "id": "7fad2095",
   "metadata": {},
   "outputs": [],
   "source": [
    "\"\"\"Practical examples demonstrating structured output with Strands Agents.\n",
    "\n",
    "This file contains working examples that demonstrate various use cases\n",
    "for structured output across different scenarios and model providers.\n",
    "# NOTE: If you run into an error with `strands-agents` dependencies than you should run the following: uv pip install -e /Volumes/workplace/dev/structured_output/sdk-python\n",
    "\"\"\"\n",
    "import asyncio\n",
    "from datetime import datetime\n",
    "from typing import List, Optional\n",
    "from pydantic import BaseModel, Field, field_validator\n",
    "import base64\n",
    "import os\n",
    "from pydantic import validator\n",
    "\n",
    "\n",
    "# Example models for different use cases\n",
    "\n",
    "class UserProfile(BaseModel):\n",
    "    \"\"\"Basic user profile model.\"\"\"\n",
    "    name: str\n",
    "    age: int\n",
    "    occupation: str\n",
    "    active: bool = True\n",
    "\n",
    "class Address(BaseModel):\n",
    "    \"\"\"Address information.\"\"\"\n",
    "    street: str\n",
    "    city: str\n",
    "    state: str\n",
    "    zip_code: str\n",
    "\n",
    "class Contact(BaseModel):\n",
    "    \"\"\"Contact information.\"\"\"\n",
    "    email: str\n",
    "    phone: Optional[str] = None\n",
    "    preferred_method: str = \"email\"\n",
    "\n",
    "class Employee(BaseModel):\n",
    "    \"\"\"Complex nested employee model.\"\"\"\n",
    "    name: str\n",
    "    employee_id: int\n",
    "    department: str\n",
    "    address: Address\n",
    "    contact: Contact\n",
    "    skills: List[str]\n",
    "    hire_date: str\n",
    "    salary_range: str\n",
    "\n",
    "class ProductReview(BaseModel):\n",
    "    \"\"\"Product review analysis.\"\"\"\n",
    "    product_name: str\n",
    "    rating: int = Field(ge=1, le=5, description=\"Rating from 1-5 stars\")\n",
    "    sentiment: str = Field(pattern=\"^(positive|negative|neutral)$\")\n",
    "    key_points: List[str]\n",
    "    would_recommend: bool\n",
    "\n",
    "class WeatherForecast(BaseModel):\n",
    "    \"\"\"Weather forecast data.\"\"\"\n",
    "    location: str\n",
    "    temperature: int\n",
    "    condition: str\n",
    "    humidity: int\n",
    "    wind_speed: int\n",
    "    forecast_date: str\n",
    "\n",
    "class TaskList(BaseModel):\n",
    "    \"\"\"Task management structure.\"\"\"\n",
    "    project_name: str\n",
    "    tasks: List[str]\n",
    "    priority: str = Field(pattern=\"^(high|medium|low)$\")\n",
    "    due_date: str\n",
    "    estimated_hours: int\n",
    "\n",
    "# Example functions demonstrating different usage patterns\n",
    "\n",
    "\n",
    "class Name(BaseModel):\n",
    "    first_name: str\n",
    "\n",
    "    @field_validator(\"first_name\")\n",
    "    @classmethod\n",
    "    def validate_first_name(cls, value: str) -> str:\n",
    "        if not value.endswith('abc'):\n",
    "            raise ValueError(\"You must append 'abc' to the end of my name\")\n",
    "        return value "
   ]
  },
  {
   "cell_type": "code",
   "execution_count": 10,
   "id": "ea338493",
   "metadata": {},
   "outputs": [
    {
     "data": {
      "text/plain": [
       "Name(first_name='John Doeabc')"
      ]
     },
     "execution_count": 10,
     "metadata": {},
     "output_type": "execute_result"
    }
   ],
   "source": [
    "Name(first_name=\"John Doeabc\")"
   ]
  },
  {
   "cell_type": "code",
   "execution_count": null,
   "id": "4813b35f",
   "metadata": {},
   "outputs": [],
   "source": []
  },
  {
   "cell_type": "code",
   "execution_count": null,
   "id": "ec503329",
   "metadata": {},
   "outputs": [],
   "source": []
  },
  {
   "cell_type": "code",
   "execution_count": 2,
   "id": "bfd05e4b",
   "metadata": {},
   "outputs": [
    {
     "name": "stdout",
     "output_type": "stream",
     "text": [
      "hi\n"
     ]
    }
   ],
   "source": [
    "print('hi')"
   ]
  },
  {
   "cell_type": "code",
   "execution_count": 3,
   "id": "16384a99",
   "metadata": {},
   "outputs": [],
   "source": [
    "from strands import Agent\n",
    "agent = Agent(callback_handler=None)\n",
    "\n",
    "# Simple structured output\n",
    "result = agent(\n",
    "    \"what's 2 + 2\",\n",
    ")\n",
    "result.structured_output\n",
    "assert result.structured_output is None"
   ]
  },
  {
   "cell_type": "code",
   "execution_count": 4,
   "id": "edcb603a",
   "metadata": {},
   "outputs": [
    {
     "data": {
      "text/plain": [
       "{'role': 'assistant', 'content': [{'text': '2 + 2 = 4'}]}"
      ]
     },
     "execution_count": 4,
     "metadata": {},
     "output_type": "execute_result"
    }
   ],
   "source": [
    "result.message"
   ]
  },
  {
   "cell_type": "markdown",
   "id": "c863c340",
   "metadata": {},
   "source": [
    "# Regular"
   ]
  },
  {
   "cell_type": "code",
   "execution_count": 5,
   "id": "d2274650",
   "metadata": {},
   "outputs": [
    {
     "name": "stdout",
     "output_type": "stream",
     "text": [
      "inside _validate_structured_output_result  inside _validate_structured_output_result  inside _validate_structured_output_result  inside _validate_structured_output_result  inside _validate_structured_output_result  inside _validate_structured_output_result  inside _validate_structured_output_result  inside _validate_structured_output_result  inside _validate_structured_output_result  inside _validate_structured_output_result  inside _validate_structured_output_result  inside _validate_structured_output_result  inside _validate_structured_output_result  inside _validate_structured_output_result  inside _validate_structured_output_result  inside _validate_structured_output_result  inside _validate_structured_output_result  inside _validate_structured_output_result  inside _validate_structured_output_result  inside _validate_structured_output_result  inside _validate_structured_output_result  inside _validate_structured_output_result  inside _validate_structured_output_result  inside _validate_structured_output_result  inside _validate_structured_output_result  inside _validate_structured_output_result  inside _validate_structured_output_result  inside _validate_structured_output_result  inside _validate_structured_output_result  inside _validate_structured_output_result  \n"
     ]
    }
   ],
   "source": [
    "from strands import Agent\n",
    "from pydantic import BaseModel\n",
    "\n",
    "class UserProfile(BaseModel):\n",
    "    \"\"\"Basic user profile model.\"\"\"\n",
    "    name: str\n",
    "    age: int\n",
    "    occupation: str\n",
    "    active: bool = True\n",
    "\n",
    "basic_so_agent = Agent(callback_handler=None)\n",
    "basic_so_agent_result = basic_so_agent(\n",
    "    \"Create a user profile for Jake Johnson, age 28, software engineer, currently active\",\n",
    "    output_type=UserProfile\n",
    ")"
   ]
  },
  {
   "cell_type": "markdown",
   "id": "aa899fa8",
   "metadata": {},
   "source": [
    "# Basic structured output example"
   ]
  },
  {
   "cell_type": "code",
   "execution_count": 6,
   "id": "7e5882e3",
   "metadata": {},
   "outputs": [
    {
     "data": {
      "text/plain": [
       "UserProfile(name='Jake Johnson', age=28, occupation='software engineer', active=True)"
      ]
     },
     "execution_count": 6,
     "metadata": {},
     "output_type": "execute_result"
    }
   ],
   "source": [
    "basic_so_agent_result.structured_output"
   ]
  },
  {
   "cell_type": "code",
   "execution_count": 7,
   "id": "4464fad5",
   "metadata": {},
   "outputs": [
    {
     "data": {
      "text/plain": [
       "'\"AgentResult(stop_reason=\\'tool_use\\', message={\\'role\\': \\'assistant\\', \\'content\\': [{\\'text\\': \\\\\"I\\'ll create a user profile for Jake Johnson with the information you provided.\\\\\"}, {\\'toolUse\\': {\\'toolUseId\\': \\'tooluse_hAcIVsG3SV2xGFzF8g5_CA\\', \\'name\\': \\'UserProfile\\', \\'input\\': {\\'name\\': \\'Jake Johnson\\', \\'age\\': 28, \\'occupation\\': \\'software engineer\\', \\'active\\': True}}}]}, metrics=EventLoopMetrics(cycle_count=1, tool_metrics={\\'UserProfile\\': ToolMetrics(tool={\\'toolUseId\\': \\'tooluse_hAcIVsG3SV2xGFzF8g5_CA\\', \\'name\\': \\'UserProfile\\', \\'input\\': {\\'name\\': \\'Jake Johnson\\', \\'age\\': 28, \\'occupation\\': \\'software engineer\\', \\'active\\': True}}, call_count=1, success_count=1, error_count=0, total_time=0.0014998912811279297)}, cycle_durations=[1.7586047649383545], traces=[<strands.telemetry.metrics.Trace object at 0x10ab9e260>], accumulated_usage={\\'inputTokens\\': 473, \\'outputTokens\\': 121, \\'totalTokens\\': 594}, accumulated_metrics={\\'latencyMs\\': 1505}), state={}, structured_output=UserProfile(name=\\'Jake Johnson\\', age=28, occupation=\\'software engineer\\', active=True))\"'"
      ]
     },
     "execution_count": 7,
     "metadata": {},
     "output_type": "execute_result"
    }
   ],
   "source": [
    "import json\n",
    "json.dumps(basic_so_agent_result, default=repr)"
   ]
  },
  {
   "cell_type": "code",
   "execution_count": 8,
   "id": "e6c9b885",
   "metadata": {},
   "outputs": [
    {
     "data": {
      "text/plain": [
       "EventLoopMetrics(cycle_count=1, tool_metrics={'UserProfile': ToolMetrics(tool={'toolUseId': 'tooluse_hAcIVsG3SV2xGFzF8g5_CA', 'name': 'UserProfile', 'input': {'name': 'Jake Johnson', 'age': 28, 'occupation': 'software engineer', 'active': True}}, call_count=1, success_count=1, error_count=0, total_time=0.0014998912811279297)}, cycle_durations=[1.7586047649383545], traces=[<strands.telemetry.metrics.Trace object at 0x10ab9e260>], accumulated_usage={'inputTokens': 473, 'outputTokens': 121, 'totalTokens': 594}, accumulated_metrics={'latencyMs': 1505})"
      ]
     },
     "execution_count": 8,
     "metadata": {},
     "output_type": "execute_result"
    }
   ],
   "source": [
    "basic_so_agent_result.metrics"
   ]
  },
  {
   "cell_type": "code",
   "execution_count": 9,
   "id": "69e57deb",
   "metadata": {},
   "outputs": [
    {
     "data": {
      "text/plain": [
       "UserProfile(name='Jake Johnson', age=28, occupation='software engineer', active=True)"
      ]
     },
     "execution_count": 9,
     "metadata": {},
     "output_type": "execute_result"
    }
   ],
   "source": [
    "basic_so_agent_result.structured_output"
   ]
  },
  {
   "cell_type": "code",
   "execution_count": 10,
   "id": "deb46507",
   "metadata": {},
   "outputs": [
    {
     "data": {
      "text/plain": [
       "UserProfile(name='Jake Johnson', age=28, occupation='software engineer', active=True)"
      ]
     },
     "execution_count": 10,
     "metadata": {},
     "output_type": "execute_result"
    }
   ],
   "source": [
    "assert basic_so_agent_result.structured_output\n",
    "basic_so_agent_result.structured_output"
   ]
  },
  {
   "cell_type": "code",
   "execution_count": 11,
   "id": "a3f0c368",
   "metadata": {},
   "outputs": [
    {
     "data": {
      "text/plain": [
       "{'role': 'assistant',\n",
       " 'content': [{'text': \"I'll create a user profile for Jake Johnson with the information you provided.\"},\n",
       "  {'toolUse': {'toolUseId': 'tooluse_hAcIVsG3SV2xGFzF8g5_CA',\n",
       "    'name': 'UserProfile',\n",
       "    'input': {'name': 'Jake Johnson',\n",
       "     'age': 28,\n",
       "     'occupation': 'software engineer',\n",
       "     'active': True}}}]}"
      ]
     },
     "execution_count": 11,
     "metadata": {},
     "output_type": "execute_result"
    }
   ],
   "source": [
    "basic_so_agent_result.message"
   ]
  },
  {
   "cell_type": "code",
   "execution_count": 12,
   "id": "bf457c74",
   "metadata": {},
   "outputs": [
    {
     "data": {
      "text/plain": [
       "EventLoopMetrics(cycle_count=1, tool_metrics={}, cycle_durations=[1.1869471073150635], traces=[<strands.telemetry.metrics.Trace object at 0x10a2f8130>], accumulated_usage={'inputTokens': 15, 'outputTokens': 13, 'totalTokens': 28}, accumulated_metrics={'latencyMs': 923})"
      ]
     },
     "execution_count": 12,
     "metadata": {},
     "output_type": "execute_result"
    }
   ],
   "source": [
    "result.metrics"
   ]
  },
  {
   "cell_type": "code",
   "execution_count": 13,
   "id": "62a0133f",
   "metadata": {},
   "outputs": [
    {
     "data": {
      "text/plain": [
       "[{'role': 'user',\n",
       "  'content': [{'text': 'Create a user profile for Jake Johnson, age 28, software engineer, currently active'}]},\n",
       " {'role': 'assistant',\n",
       "  'content': [{'text': \"I'll create a user profile for Jake Johnson with the information you provided.\"},\n",
       "   {'toolUse': {'toolUseId': 'tooluse_hAcIVsG3SV2xGFzF8g5_CA',\n",
       "     'name': 'UserProfile',\n",
       "     'input': {'name': 'Jake Johnson',\n",
       "      'age': 28,\n",
       "      'occupation': 'software engineer',\n",
       "      'active': True}}}]},\n",
       " {'role': 'user',\n",
       "  'content': [{'toolResult': {'toolUseId': 'tooluse_hAcIVsG3SV2xGFzF8g5_CA',\n",
       "     'status': 'success',\n",
       "     'content': [{'text': 'Successfully validated UserProfile structured output'}],\n",
       "     '_validated_object': UserProfile(name='Jake Johnson', age=28, occupation='software engineer', active=True)}}]}]"
      ]
     },
     "execution_count": 13,
     "metadata": {},
     "output_type": "execute_result"
    }
   ],
   "source": [
    "basic_so_agent.messages"
   ]
  },
  {
   "cell_type": "markdown",
   "id": "4358c44d",
   "metadata": {},
   "source": [
    "### Tool use example w/o Structured Output"
   ]
  },
  {
   "cell_type": "code",
   "execution_count": 14,
   "id": "40682bd7",
   "metadata": {},
   "outputs": [
    {
     "name": "stdout",
     "output_type": "stream",
     "text": [
      "I'll calculate 42 raised to the power of 9 for you.\n",
      "Tool #1: calculator\n"
     ]
    },
    {
     "data": {
      "text/html": [
       "<pre style=\"white-space:pre;overflow-x:auto;line-height:normal;font-family:Menlo,'DejaVu Sans Mono',consolas,'Courier New',monospace\"><span style=\"color: #000080; text-decoration-color: #000080\">╭────────────────────────────────────────────── </span><span style=\"color: #000080; text-decoration-color: #000080; font-weight: bold\">Calculation Result</span><span style=\"color: #000080; text-decoration-color: #000080\"> ───────────────────────────────────────────────╮</span>\n",
       "<span style=\"color: #000080; text-decoration-color: #000080\">│</span>                                                                                                                 <span style=\"color: #000080; text-decoration-color: #000080\">│</span>\n",
       "<span style=\"color: #000080; text-decoration-color: #000080\">│</span>  ╭───────────┬─────────────────────╮                                                                            <span style=\"color: #000080; text-decoration-color: #000080\">│</span>\n",
       "<span style=\"color: #000080; text-decoration-color: #000080\">│</span>  │<span style=\"color: #008080; text-decoration-color: #008080\"> Operation </span>│<span style=\"color: #008000; text-decoration-color: #008000\"> Evaluate Expression </span>│                                                                            <span style=\"color: #000080; text-decoration-color: #000080\">│</span>\n",
       "<span style=\"color: #000080; text-decoration-color: #000080\">│</span>  │<span style=\"color: #008080; text-decoration-color: #008080\"> Input     </span>│<span style=\"color: #008000; text-decoration-color: #008000\"> 42**9               </span>│                                                                            <span style=\"color: #000080; text-decoration-color: #000080\">│</span>\n",
       "<span style=\"color: #000080; text-decoration-color: #000080\">│</span>  │<span style=\"color: #008080; text-decoration-color: #008080\"> Result    </span>│<span style=\"color: #008000; text-decoration-color: #008000\"> 406671383849472     </span>│                                                                            <span style=\"color: #000080; text-decoration-color: #000080\">│</span>\n",
       "<span style=\"color: #000080; text-decoration-color: #000080\">│</span>  ╰───────────┴─────────────────────╯                                                                            <span style=\"color: #000080; text-decoration-color: #000080\">│</span>\n",
       "<span style=\"color: #000080; text-decoration-color: #000080\">│</span>                                                                                                                 <span style=\"color: #000080; text-decoration-color: #000080\">│</span>\n",
       "<span style=\"color: #000080; text-decoration-color: #000080\">╰─────────────────────────────────────────────────────────────────────────────────────────────────────────────────╯</span>\n",
       "</pre>\n"
      ],
      "text/plain": [
       "\u001b[34m╭─\u001b[0m\u001b[34m─────────────────────────────────────────────\u001b[0m\u001b[34m \u001b[0m\u001b[1;34mCalculation Result\u001b[0m\u001b[34m \u001b[0m\u001b[34m──────────────────────────────────────────────\u001b[0m\u001b[34m─╮\u001b[0m\n",
       "\u001b[34m│\u001b[0m                                                                                                                 \u001b[34m│\u001b[0m\n",
       "\u001b[34m│\u001b[0m  ╭───────────┬─────────────────────╮                                                                            \u001b[34m│\u001b[0m\n",
       "\u001b[34m│\u001b[0m  │\u001b[36m \u001b[0m\u001b[36mOperation\u001b[0m\u001b[36m \u001b[0m│\u001b[32m \u001b[0m\u001b[32mEvaluate Expression\u001b[0m\u001b[32m \u001b[0m│                                                                            \u001b[34m│\u001b[0m\n",
       "\u001b[34m│\u001b[0m  │\u001b[36m \u001b[0m\u001b[36mInput    \u001b[0m\u001b[36m \u001b[0m│\u001b[32m \u001b[0m\u001b[32m42**9              \u001b[0m\u001b[32m \u001b[0m│                                                                            \u001b[34m│\u001b[0m\n",
       "\u001b[34m│\u001b[0m  │\u001b[36m \u001b[0m\u001b[36mResult   \u001b[0m\u001b[36m \u001b[0m│\u001b[32m \u001b[0m\u001b[32m406671383849472    \u001b[0m\u001b[32m \u001b[0m│                                                                            \u001b[34m│\u001b[0m\n",
       "\u001b[34m│\u001b[0m  ╰───────────┴─────────────────────╯                                                                            \u001b[34m│\u001b[0m\n",
       "\u001b[34m│\u001b[0m                                                                                                                 \u001b[34m│\u001b[0m\n",
       "\u001b[34m╰─────────────────────────────────────────────────────────────────────────────────────────────────────────────────╯\u001b[0m\n"
      ]
     },
     "metadata": {},
     "output_type": "display_data"
    },
    {
     "name": "stdout",
     "output_type": "stream",
     "text": [
      "42^9 = 406,671,383,849,472\n",
      "\n",
      "That's approximately 406.67 trillion!"
     ]
    }
   ],
   "source": [
    "from strands import Agent\n",
    "from strands_tools import handoff_to_user, calculator\n",
    "\n",
    "tool_agent = Agent(tools=[calculator])\n",
    "tool_agent_res = tool_agent(\"What is 42 ^ 9\")"
   ]
  },
  {
   "cell_type": "code",
   "execution_count": 15,
   "id": "4fa901cd",
   "metadata": {},
   "outputs": [],
   "source": [
    "tool_agent_res.metrics\n",
    "tool_agent_res.structured_output"
   ]
  },
  {
   "cell_type": "code",
   "execution_count": 16,
   "id": "8f321da5",
   "metadata": {},
   "outputs": [
    {
     "data": {
      "text/plain": [
       "[{'role': 'user', 'content': [{'text': 'What is 42 ^ 9'}]},\n",
       " {'role': 'assistant',\n",
       "  'content': [{'text': \"I'll calculate 42 raised to the power of 9 for you.\"},\n",
       "   {'toolUse': {'toolUseId': 'tooluse_5Zs5YkkhQRe7vg0NqHwHag',\n",
       "     'name': 'calculator',\n",
       "     'input': {'expression': '42**9'}}}]},\n",
       " {'role': 'user',\n",
       "  'content': [{'toolResult': {'status': 'success',\n",
       "     'content': [{'text': 'Result: 406671383849472'}],\n",
       "     'toolUseId': 'tooluse_5Zs5YkkhQRe7vg0NqHwHag'}}]},\n",
       " {'role': 'assistant',\n",
       "  'content': [{'text': \"42^9 = 406,671,383,849,472\\n\\nThat's approximately 406.67 trillion!\"}]}]"
      ]
     },
     "execution_count": 16,
     "metadata": {},
     "output_type": "execute_result"
    }
   ],
   "source": [
    "tool_agent.messages"
   ]
  },
  {
   "cell_type": "code",
   "execution_count": 17,
   "id": "a3c83244",
   "metadata": {},
   "outputs": [
    {
     "name": "stdout",
     "output_type": "stream",
     "text": [
      "I'll calculate 42^9 for you.\n",
      "Tool #1: calculator\n"
     ]
    },
    {
     "data": {
      "text/html": [
       "<pre style=\"white-space:pre;overflow-x:auto;line-height:normal;font-family:Menlo,'DejaVu Sans Mono',consolas,'Courier New',monospace\"><span style=\"color: #000080; text-decoration-color: #000080\">╭────────────────────────────────────────────── </span><span style=\"color: #000080; text-decoration-color: #000080; font-weight: bold\">Calculation Result</span><span style=\"color: #000080; text-decoration-color: #000080\"> ───────────────────────────────────────────────╮</span>\n",
       "<span style=\"color: #000080; text-decoration-color: #000080\">│</span>                                                                                                                 <span style=\"color: #000080; text-decoration-color: #000080\">│</span>\n",
       "<span style=\"color: #000080; text-decoration-color: #000080\">│</span>  ╭───────────┬─────────────────────╮                                                                            <span style=\"color: #000080; text-decoration-color: #000080\">│</span>\n",
       "<span style=\"color: #000080; text-decoration-color: #000080\">│</span>  │<span style=\"color: #008080; text-decoration-color: #008080\"> Operation </span>│<span style=\"color: #008000; text-decoration-color: #008000\"> Evaluate Expression </span>│                                                                            <span style=\"color: #000080; text-decoration-color: #000080\">│</span>\n",
       "<span style=\"color: #000080; text-decoration-color: #000080\">│</span>  │<span style=\"color: #008080; text-decoration-color: #008080\"> Input     </span>│<span style=\"color: #008000; text-decoration-color: #008000\"> 42^9                </span>│                                                                            <span style=\"color: #000080; text-decoration-color: #000080\">│</span>\n",
       "<span style=\"color: #000080; text-decoration-color: #000080\">│</span>  │<span style=\"color: #008080; text-decoration-color: #008080\"> Result    </span>│<span style=\"color: #008000; text-decoration-color: #008000\"> 406671383849472     </span>│                                                                            <span style=\"color: #000080; text-decoration-color: #000080\">│</span>\n",
       "<span style=\"color: #000080; text-decoration-color: #000080\">│</span>  ╰───────────┴─────────────────────╯                                                                            <span style=\"color: #000080; text-decoration-color: #000080\">│</span>\n",
       "<span style=\"color: #000080; text-decoration-color: #000080\">│</span>                                                                                                                 <span style=\"color: #000080; text-decoration-color: #000080\">│</span>\n",
       "<span style=\"color: #000080; text-decoration-color: #000080\">╰─────────────────────────────────────────────────────────────────────────────────────────────────────────────────╯</span>\n",
       "</pre>\n"
      ],
      "text/plain": [
       "\u001b[34m╭─\u001b[0m\u001b[34m─────────────────────────────────────────────\u001b[0m\u001b[34m \u001b[0m\u001b[1;34mCalculation Result\u001b[0m\u001b[34m \u001b[0m\u001b[34m──────────────────────────────────────────────\u001b[0m\u001b[34m─╮\u001b[0m\n",
       "\u001b[34m│\u001b[0m                                                                                                                 \u001b[34m│\u001b[0m\n",
       "\u001b[34m│\u001b[0m  ╭───────────┬─────────────────────╮                                                                            \u001b[34m│\u001b[0m\n",
       "\u001b[34m│\u001b[0m  │\u001b[36m \u001b[0m\u001b[36mOperation\u001b[0m\u001b[36m \u001b[0m│\u001b[32m \u001b[0m\u001b[32mEvaluate Expression\u001b[0m\u001b[32m \u001b[0m│                                                                            \u001b[34m│\u001b[0m\n",
       "\u001b[34m│\u001b[0m  │\u001b[36m \u001b[0m\u001b[36mInput    \u001b[0m\u001b[36m \u001b[0m│\u001b[32m \u001b[0m\u001b[32m42^9               \u001b[0m\u001b[32m \u001b[0m│                                                                            \u001b[34m│\u001b[0m\n",
       "\u001b[34m│\u001b[0m  │\u001b[36m \u001b[0m\u001b[36mResult   \u001b[0m\u001b[36m \u001b[0m│\u001b[32m \u001b[0m\u001b[32m406671383849472    \u001b[0m\u001b[32m \u001b[0m│                                                                            \u001b[34m│\u001b[0m\n",
       "\u001b[34m│\u001b[0m  ╰───────────┴─────────────────────╯                                                                            \u001b[34m│\u001b[0m\n",
       "\u001b[34m│\u001b[0m                                                                                                                 \u001b[34m│\u001b[0m\n",
       "\u001b[34m╰─────────────────────────────────────────────────────────────────────────────────────────────────────────────────╯\u001b[0m\n"
      ]
     },
     "metadata": {},
     "output_type": "display_data"
    },
    {
     "name": "stdout",
     "output_type": "stream",
     "text": [
      "\n",
      "Tool #2: MathResult\n",
      "inside _validate_structured_output_result  inside _validate_structured_output_result  inside _validate_structured_output_result  inside _validate_structured_output_result  inside _validate_structured_output_result  inside _validate_structured_output_result  inside _validate_structured_output_result  inside _validate_structured_output_result  inside _validate_structured_output_result  inside _validate_structured_output_result  inside _validate_structured_output_result  inside _validate_structured_output_result  inside _validate_structured_output_result  inside _validate_structured_output_result  inside _validate_structured_output_result  inside _validate_structured_output_result  inside _validate_structured_output_result  inside _validate_structured_output_result  inside _validate_structured_output_result  inside _validate_structured_output_result  inside _validate_structured_output_result  inside _validate_structured_output_result  inside _validate_structured_output_result  inside _validate_structured_output_result  inside _validate_structured_output_result  inside _validate_structured_output_result  inside _validate_structured_output_result  inside _validate_structured_output_result  inside _validate_structured_output_result  inside _validate_structured_output_result  \n"
     ]
    }
   ],
   "source": [
    "from strands import Agent\n",
    "from strands_tools import calculator, file_read, shell\n",
    "from pydantic import BaseModel, Field\n",
    "\n",
    "class MathResult(BaseModel):\n",
    "    operation: str = Field(description=\"the performed operation\")\n",
    "    result: int = Field(description=\"the result of the operation\")\n",
    "\n",
    "\n",
    "# Add tools to our agent\n",
    "tool_agent_with_so = Agent(\n",
    "    tools=[calculator, file_read, shell]\n",
    ")\n",
    "\n",
    "# Agent will automatically determine when to use the calculator tool\n",
    "tool_agent_with_so_res = tool_agent_with_so(\"What is 42 ^ 9\", output_type=MathResult)"
   ]
  },
  {
   "cell_type": "code",
   "execution_count": 18,
   "id": "8a544568",
   "metadata": {},
   "outputs": [
    {
     "data": {
      "text/plain": [
       "MathResult(operation='42^9', result=406671383849472)"
      ]
     },
     "execution_count": 18,
     "metadata": {},
     "output_type": "execute_result"
    }
   ],
   "source": [
    "tool_agent_with_so_res.structured_output"
   ]
  },
  {
   "cell_type": "code",
   "execution_count": 19,
   "id": "3e5df9fa",
   "metadata": {},
   "outputs": [
    {
     "data": {
      "text/plain": [
       "EventLoopMetrics(cycle_count=2, tool_metrics={'calculator': ToolMetrics(tool={'toolUseId': 'tooluse_-CkT85k3T8-9Ipw0riofZg', 'name': 'calculator', 'input': {'expression': '42^9'}}, call_count=1, success_count=1, error_count=0, total_time=0.00960397720336914), 'MathResult': ToolMetrics(tool={'toolUseId': 'tooluse_NEcA4cROTp6BuVYQ1Hqhmg', 'name': 'MathResult', 'input': {'operation': '42^9', 'result': 406671383849472}}, call_count=1, success_count=1, error_count=0, total_time=0.0005879402160644531)}, cycle_durations=[1.7626841068267822], traces=[<strands.telemetry.metrics.Trace object at 0x10d580f10>, <strands.telemetry.metrics.Trace object at 0x10c36b400>], accumulated_usage={'inputTokens': 7791, 'outputTokens': 141, 'totalTokens': 7932}, accumulated_metrics={'latencyMs': 3136})"
      ]
     },
     "execution_count": 19,
     "metadata": {},
     "output_type": "execute_result"
    }
   ],
   "source": [
    "tool_agent_with_so_res.metrics"
   ]
  },
  {
   "cell_type": "code",
   "execution_count": 20,
   "id": "d9f32c92",
   "metadata": {},
   "outputs": [
    {
     "data": {
      "text/plain": [
       "{'calculator': ToolMetrics(tool={'toolUseId': 'tooluse_-CkT85k3T8-9Ipw0riofZg', 'name': 'calculator', 'input': {'expression': '42^9'}}, call_count=1, success_count=1, error_count=0, total_time=0.00960397720336914),\n",
       " 'MathResult': ToolMetrics(tool={'toolUseId': 'tooluse_NEcA4cROTp6BuVYQ1Hqhmg', 'name': 'MathResult', 'input': {'operation': '42^9', 'result': 406671383849472}}, call_count=1, success_count=1, error_count=0, total_time=0.0005879402160644531)}"
      ]
     },
     "execution_count": 20,
     "metadata": {},
     "output_type": "execute_result"
    }
   ],
   "source": [
    "tool_agent_with_so_res.metrics.tool_metrics"
   ]
  },
  {
   "cell_type": "code",
   "execution_count": 21,
   "id": "f31f2e49",
   "metadata": {},
   "outputs": [
    {
     "data": {
      "text/plain": [
       "[{'role': 'user', 'content': [{'text': 'What is 42 ^ 9'}]},\n",
       " {'role': 'assistant',\n",
       "  'content': [{'text': \"I'll calculate 42^9 for you.\"},\n",
       "   {'toolUse': {'toolUseId': 'tooluse_-CkT85k3T8-9Ipw0riofZg',\n",
       "     'name': 'calculator',\n",
       "     'input': {'expression': '42^9'}}}]},\n",
       " {'role': 'user',\n",
       "  'content': [{'toolResult': {'status': 'success',\n",
       "     'content': [{'text': 'Result: 406671383849472'}],\n",
       "     'toolUseId': 'tooluse_-CkT85k3T8-9Ipw0riofZg'}}]},\n",
       " {'role': 'assistant',\n",
       "  'content': [{'toolUse': {'toolUseId': 'tooluse_NEcA4cROTp6BuVYQ1Hqhmg',\n",
       "     'name': 'MathResult',\n",
       "     'input': {'operation': '42^9', 'result': 406671383849472}}}]},\n",
       " {'role': 'user',\n",
       "  'content': [{'toolResult': {'toolUseId': 'tooluse_NEcA4cROTp6BuVYQ1Hqhmg',\n",
       "     'status': 'success',\n",
       "     'content': [{'text': 'Successfully validated MathResult structured output'}],\n",
       "     '_validated_object': MathResult(operation='42^9', result=406671383849472)}}]}]"
      ]
     },
     "execution_count": 21,
     "metadata": {},
     "output_type": "execute_result"
    }
   ],
   "source": [
    "tool_agent_with_so.messages"
   ]
  },
  {
   "cell_type": "code",
   "execution_count": 22,
   "id": "b9f49792",
   "metadata": {},
   "outputs": [
    {
     "data": {
      "text/plain": [
       "{'total_cycles': 2,\n",
       " 'total_duration': 1.7626841068267822,\n",
       " 'average_cycle_time': 0.8813420534133911,\n",
       " 'tool_usage': {'calculator': {'tool_info': {'tool_use_id': 'tooluse_-CkT85k3T8-9Ipw0riofZg',\n",
       "    'name': 'calculator',\n",
       "    'input_params': {'expression': '42^9'}},\n",
       "   'execution_stats': {'call_count': 1,\n",
       "    'success_count': 1,\n",
       "    'error_count': 0,\n",
       "    'total_time': 0.00960397720336914,\n",
       "    'average_time': 0.00960397720336914,\n",
       "    'success_rate': 1.0}},\n",
       "  'MathResult': {'tool_info': {'tool_use_id': 'tooluse_NEcA4cROTp6BuVYQ1Hqhmg',\n",
       "    'name': 'MathResult',\n",
       "    'input_params': {'operation': '42^9', 'result': 406671383849472}},\n",
       "   'execution_stats': {'call_count': 1,\n",
       "    'success_count': 1,\n",
       "    'error_count': 0,\n",
       "    'total_time': 0.0005879402160644531,\n",
       "    'average_time': 0.0005879402160644531,\n",
       "    'success_rate': 1.0}}},\n",
       " 'traces': [{'id': '0a98c4de-de0d-4cc3-a6b5-13d7072d3a21',\n",
       "   'name': 'Cycle 1',\n",
       "   'raw_name': None,\n",
       "   'parent_id': None,\n",
       "   'start_time': 1758230246.5322042,\n",
       "   'end_time': None,\n",
       "   'duration': None,\n",
       "   'children': [{'id': '1c38e8a4-f31c-4103-850c-b790a532d8fd',\n",
       "     'name': 'stream_messages',\n",
       "     'raw_name': None,\n",
       "     'parent_id': '0a98c4de-de0d-4cc3-a6b5-13d7072d3a21',\n",
       "     'start_time': 1758230246.532232,\n",
       "     'end_time': 1758230248.425674,\n",
       "     'duration': 1.893441915512085,\n",
       "     'children': [],\n",
       "     'metadata': {},\n",
       "     'message': {'role': 'assistant',\n",
       "      'content': [{'text': \"I'll calculate 42^9 for you.\"},\n",
       "       {'toolUse': {'toolUseId': 'tooluse_-CkT85k3T8-9Ipw0riofZg',\n",
       "         'name': 'calculator',\n",
       "         'input': {'expression': '42^9'}}}]}},\n",
       "    {'id': '5d1abe15-ded5-40a2-9f7f-0736cfb846aa',\n",
       "     'name': 'Tool: calculator',\n",
       "     'raw_name': 'calculator - tooluse_-CkT85k3T8-9Ipw0riofZg',\n",
       "     'parent_id': '0a98c4de-de0d-4cc3-a6b5-13d7072d3a21',\n",
       "     'start_time': 1758230248.4263198,\n",
       "     'end_time': 1758230248.4359748,\n",
       "     'duration': 0.009654998779296875,\n",
       "     'children': [],\n",
       "     'metadata': {'toolUseId': 'tooluse_-CkT85k3T8-9Ipw0riofZg',\n",
       "      'tool_name': 'calculator'},\n",
       "     'message': {'role': 'user',\n",
       "      'content': [{'toolResult': {'status': 'success',\n",
       "         'content': [{'text': 'Result: 406671383849472'}],\n",
       "         'toolUseId': 'tooluse_-CkT85k3T8-9Ipw0riofZg'}}]}},\n",
       "    {'id': '2c6715c0-2fa2-402c-860d-e8139e33fb56',\n",
       "     'name': 'Recursive call',\n",
       "     'raw_name': None,\n",
       "     'parent_id': '0a98c4de-de0d-4cc3-a6b5-13d7072d3a21',\n",
       "     'start_time': 1758230248.43629,\n",
       "     'end_time': 1758230250.199126,\n",
       "     'duration': 1.76283597946167,\n",
       "     'children': [],\n",
       "     'metadata': {},\n",
       "     'message': None}],\n",
       "   'metadata': {},\n",
       "   'message': None},\n",
       "  {'id': '2ab4a07a-fb02-4a24-8bf7-d09d1375024a',\n",
       "   'name': 'Cycle 2',\n",
       "   'raw_name': None,\n",
       "   'parent_id': None,\n",
       "   'start_time': 1758230248.436328,\n",
       "   'end_time': 1758230250.199012,\n",
       "   'duration': 1.7626841068267822,\n",
       "   'children': [{'id': '151be4e6-9c0e-4ff8-b051-47bcd73102fd',\n",
       "     'name': 'stream_messages',\n",
       "     'raw_name': None,\n",
       "     'parent_id': '2ab4a07a-fb02-4a24-8bf7-d09d1375024a',\n",
       "     'start_time': 1758230248.436453,\n",
       "     'end_time': 1758230250.1977239,\n",
       "     'duration': 1.7612707614898682,\n",
       "     'children': [],\n",
       "     'metadata': {},\n",
       "     'message': {'role': 'assistant',\n",
       "      'content': [{'toolUse': {'toolUseId': 'tooluse_NEcA4cROTp6BuVYQ1Hqhmg',\n",
       "         'name': 'MathResult',\n",
       "         'input': {'operation': '42^9', 'result': 406671383849472}}}]}},\n",
       "    {'id': '6ee1d023-bf68-4a3b-bdc7-41b31ed3a064',\n",
       "     'name': 'Tool: MathResult',\n",
       "     'raw_name': 'MathResult - tooluse_NEcA4cROTp6BuVYQ1Hqhmg',\n",
       "     'parent_id': '2ab4a07a-fb02-4a24-8bf7-d09d1375024a',\n",
       "     'start_time': 1758230250.198186,\n",
       "     'end_time': 1758230250.198812,\n",
       "     'duration': 0.0006260871887207031,\n",
       "     'children': [],\n",
       "     'metadata': {'toolUseId': 'tooluse_NEcA4cROTp6BuVYQ1Hqhmg',\n",
       "      'tool_name': 'MathResult'},\n",
       "     'message': {'role': 'user',\n",
       "      'content': [{'toolResult': {'toolUseId': 'tooluse_NEcA4cROTp6BuVYQ1Hqhmg',\n",
       "         'status': 'success',\n",
       "         'content': [{'text': 'Successfully validated MathResult structured output'}],\n",
       "         '_validated_object': MathResult(operation='42^9', result=406671383849472)}}]}}],\n",
       "   'metadata': {},\n",
       "   'message': None}],\n",
       " 'accumulated_usage': {'inputTokens': 7791,\n",
       "  'outputTokens': 141,\n",
       "  'totalTokens': 7932},\n",
       " 'accumulated_metrics': {'latencyMs': 3136}}"
      ]
     },
     "execution_count": 22,
     "metadata": {},
     "output_type": "execute_result"
    }
   ],
   "source": [
    "tool_agent_with_so_res.metrics.get_summary()"
   ]
  },
  {
   "cell_type": "code",
   "execution_count": 23,
   "id": "6665b40d",
   "metadata": {},
   "outputs": [
    {
     "data": {
      "text/plain": [
       "[{'role': 'user', 'content': [{'text': 'What is 42 ^ 9'}]},\n",
       " {'role': 'assistant',\n",
       "  'content': [{'text': \"I'll calculate 42^9 for you.\"},\n",
       "   {'toolUse': {'toolUseId': 'tooluse_-CkT85k3T8-9Ipw0riofZg',\n",
       "     'name': 'calculator',\n",
       "     'input': {'expression': '42^9'}}}]},\n",
       " {'role': 'user',\n",
       "  'content': [{'toolResult': {'status': 'success',\n",
       "     'content': [{'text': 'Result: 406671383849472'}],\n",
       "     'toolUseId': 'tooluse_-CkT85k3T8-9Ipw0riofZg'}}]},\n",
       " {'role': 'assistant',\n",
       "  'content': [{'toolUse': {'toolUseId': 'tooluse_NEcA4cROTp6BuVYQ1Hqhmg',\n",
       "     'name': 'MathResult',\n",
       "     'input': {'operation': '42^9', 'result': 406671383849472}}}]},\n",
       " {'role': 'user',\n",
       "  'content': [{'toolResult': {'toolUseId': 'tooluse_NEcA4cROTp6BuVYQ1Hqhmg',\n",
       "     'status': 'success',\n",
       "     'content': [{'text': 'Successfully validated MathResult structured output'}],\n",
       "     '_validated_object': MathResult(operation='42^9', result=406671383849472)}}]}]"
      ]
     },
     "execution_count": 23,
     "metadata": {},
     "output_type": "execute_result"
    }
   ],
   "source": [
    "tool_agent_with_so.messages"
   ]
  },
  {
   "cell_type": "markdown",
   "id": "6d31b495",
   "metadata": {},
   "source": [
    "## Async agent"
   ]
  },
  {
   "cell_type": "code",
   "execution_count": 24,
   "id": "1190e3fd",
   "metadata": {},
   "outputs": [
    {
     "name": "stdout",
     "output_type": "stream",
     "text": [
      "🔹 Async Usage Example\n",
      "==================================================\n",
      "I'll analyze this product review for you.\n",
      "Tool #1: ProductReview\n",
      "inside _validate_structured_output_result  inside _validate_structured_output_result  inside _validate_structured_output_result  inside _validate_structured_output_result  inside _validate_structured_output_result  inside _validate_structured_output_result  inside _validate_structured_output_result  inside _validate_structured_output_result  inside _validate_structured_output_result  inside _validate_structured_output_result  inside _validate_structured_output_result  inside _validate_structured_output_result  inside _validate_structured_output_result  inside _validate_structured_output_result  inside _validate_structured_output_result  inside _validate_structured_output_result  inside _validate_structured_output_result  inside _validate_structured_output_result  inside _validate_structured_output_result  inside _validate_structured_output_result  inside _validate_structured_output_result  inside _validate_structured_output_result  inside _validate_structured_output_result  inside _validate_structured_output_result  inside _validate_structured_output_result  inside _validate_structured_output_result  inside _validate_structured_output_result  inside _validate_structured_output_result  inside _validate_structured_output_result  inside _validate_structured_output_result  \n"
     ]
    }
   ],
   "source": [
    "\"\"\"Asynchronous structured output example.\"\"\"\n",
    "print(\"🔹 Async Usage Example\")\n",
    "print(\"=\" * 50)\n",
    "\n",
    "from strands import Agent\n",
    "\n",
    "agent_async = Agent()\n",
    "\n",
    "# Async structured output\n",
    "agent_async_result = await agent_async.invoke_async(\n",
    "    \"\"\"\n",
    "    Analyze this product review:\n",
    "    \"This wireless mouse is fantastic! Great battery life, smooth tracking, \n",
    "    and the ergonomic design is perfect for long work sessions. The price \n",
    "    is reasonable too. I'd definitely buy it again and recommend it to others.\n",
    "    Rating: 5 stars\"\n",
    "    \"\"\",\n",
    "    output_type=ProductReview\n",
    ")\n"
   ]
  },
  {
   "cell_type": "code",
   "execution_count": 25,
   "id": "55d0a072",
   "metadata": {},
   "outputs": [
    {
     "data": {
      "text/plain": [
       "AgentResult(stop_reason='tool_use', message={'role': 'assistant', 'content': [{'text': \"I'll analyze this product review for you.\"}, {'toolUse': {'toolUseId': 'tooluse_lXxQOH24T36ijCsjo89FaA', 'name': 'ProductReview', 'input': {'product_name': 'wireless mouse', 'rating': 5, 'sentiment': 'positive', 'key_points': ['Great battery life', 'Smooth tracking', 'Ergonomic design perfect for long work sessions', 'Reasonable price', 'Would buy again'], 'would_recommend': True}}}]}, metrics=EventLoopMetrics(cycle_count=1, tool_metrics={'ProductReview': ToolMetrics(tool={'toolUseId': 'tooluse_lXxQOH24T36ijCsjo89FaA', 'name': 'ProductReview', 'input': {'product_name': 'wireless mouse', 'rating': 5, 'sentiment': 'positive', 'key_points': ['Great battery life', 'Smooth tracking', 'Ergonomic design perfect for long work sessions', 'Reasonable price', 'Would buy again'], 'would_recommend': True}}, call_count=1, success_count=1, error_count=0, total_time=0.0006418228149414062)}, cycle_durations=[3.0187089443206787], traces=[<strands.telemetry.metrics.Trace object at 0x10d5da080>], accumulated_usage={'inputTokens': 608, 'outputTokens': 169, 'totalTokens': 777}, accumulated_metrics={'latencyMs': 2767}), state={}, structured_output=ProductReview(product_name='wireless mouse', rating=5, sentiment='positive', key_points=['Great battery life', 'Smooth tracking', 'Ergonomic design perfect for long work sessions', 'Reasonable price', 'Would buy again'], would_recommend=True))"
      ]
     },
     "execution_count": 25,
     "metadata": {},
     "output_type": "execute_result"
    }
   ],
   "source": [
    "agent_async_result"
   ]
  },
  {
   "cell_type": "code",
   "execution_count": 26,
   "id": "7d4d0d07",
   "metadata": {},
   "outputs": [
    {
     "data": {
      "text/plain": [
       "{'role': 'assistant',\n",
       " 'content': [{'text': \"I'll analyze this product review for you.\"},\n",
       "  {'toolUse': {'toolUseId': 'tooluse_lXxQOH24T36ijCsjo89FaA',\n",
       "    'name': 'ProductReview',\n",
       "    'input': {'product_name': 'wireless mouse',\n",
       "     'rating': 5,\n",
       "     'sentiment': 'positive',\n",
       "     'key_points': ['Great battery life',\n",
       "      'Smooth tracking',\n",
       "      'Ergonomic design perfect for long work sessions',\n",
       "      'Reasonable price',\n",
       "      'Would buy again'],\n",
       "     'would_recommend': True}}}]}"
      ]
     },
     "execution_count": 26,
     "metadata": {},
     "output_type": "execute_result"
    }
   ],
   "source": [
    "agent_async_result.message"
   ]
  },
  {
   "cell_type": "code",
   "execution_count": 27,
   "id": "be61f65c",
   "metadata": {},
   "outputs": [
    {
     "data": {
      "text/plain": [
       "ProductReview(product_name='wireless mouse', rating=5, sentiment='positive', key_points=['Great battery life', 'Smooth tracking', 'Ergonomic design perfect for long work sessions', 'Reasonable price', 'Would buy again'], would_recommend=True)"
      ]
     },
     "execution_count": 27,
     "metadata": {},
     "output_type": "execute_result"
    }
   ],
   "source": [
    "agent_async_result.structured_output"
   ]
  },
  {
   "cell_type": "code",
   "execution_count": 28,
   "id": "8f7cdd27",
   "metadata": {},
   "outputs": [
    {
     "data": {
      "text/plain": [
       "EventLoopMetrics(cycle_count=1, tool_metrics={'ProductReview': ToolMetrics(tool={'toolUseId': 'tooluse_lXxQOH24T36ijCsjo89FaA', 'name': 'ProductReview', 'input': {'product_name': 'wireless mouse', 'rating': 5, 'sentiment': 'positive', 'key_points': ['Great battery life', 'Smooth tracking', 'Ergonomic design perfect for long work sessions', 'Reasonable price', 'Would buy again'], 'would_recommend': True}}, call_count=1, success_count=1, error_count=0, total_time=0.0006418228149414062)}, cycle_durations=[3.0187089443206787], traces=[<strands.telemetry.metrics.Trace object at 0x10d5da080>], accumulated_usage={'inputTokens': 608, 'outputTokens': 169, 'totalTokens': 777}, accumulated_metrics={'latencyMs': 2767})"
      ]
     },
     "execution_count": 28,
     "metadata": {},
     "output_type": "execute_result"
    }
   ],
   "source": [
    "agent_async_result.metrics"
   ]
  },
  {
   "cell_type": "markdown",
   "id": "047c8af5",
   "metadata": {},
   "source": [
    "## Strucuted output with Langfuse?"
   ]
  },
  {
   "cell_type": "code",
   "execution_count": 29,
   "id": "674d925d",
   "metadata": {},
   "outputs": [],
   "source": [
    "\n",
    "from strands.afarnsandbox.secrets import *\n",
    "# os.environ[\"LANGFUSE_PUBLIC_KEY\"] = \"\"\n",
    "# os.environ[\"LANGFUSE_SECRET_KEY\"] = \"\"\n",
    "# os.environ[\"LANGFUSE_HOST\"] = \"https://us.cloud.langfuse.com\"  # 🇺🇸 US region\n",
    "\n",
    "# Build Basic Auth header.\n",
    "LANGFUSE_AUTH = base64.b64encode(\n",
    "    f\"{os.environ.get('LANGFUSE_PUBLIC_KEY')}:{os.environ.get('LANGFUSE_SECRET_KEY')}\".encode()\n",
    ").decode()\n",
    "\n",
    "# Configure OpenTelemetry endpoint & headers\n",
    "os.environ[\"OTEL_EXPORTER_OTLP_ENDPOINT\"] = (\n",
    "    os.environ.get(\"LANGFUSE_HOST\") + \"/api/public/otel\"\n",
    ")\n",
    "os.environ[\"OTEL_EXPORTER_OTLP_HEADERS\"] = f\"Authorization=Basic {LANGFUSE_AUTH}\"\n",
    "\n",
    "from strands.telemetry import StrandsTelemetry\n",
    "from strands.models.bedrock import BedrockModel\n",
    "\n",
    "strands_telemetry = StrandsTelemetry().setup_otlp_exporter()"
   ]
  },
  {
   "cell_type": "code",
   "execution_count": 30,
   "id": "210540ad",
   "metadata": {},
   "outputs": [
    {
     "name": "stdout",
     "output_type": "stream",
     "text": [
      "I'll create a user profile for Jake Johnson with the information you provided.\n",
      "Tool #1: UserProfile\n",
      "inside _validate_structured_output_result  inside _validate_structured_output_result  inside _validate_structured_output_result  inside _validate_structured_output_result  inside _validate_structured_output_result  inside _validate_structured_output_result  inside _validate_structured_output_result  inside _validate_structured_output_result  inside _validate_structured_output_result  inside _validate_structured_output_result  inside _validate_structured_output_result  inside _validate_structured_output_result  inside _validate_structured_output_result  inside _validate_structured_output_result  inside _validate_structured_output_result  inside _validate_structured_output_result  inside _validate_structured_output_result  inside _validate_structured_output_result  inside _validate_structured_output_result  inside _validate_structured_output_result  inside _validate_structured_output_result  inside _validate_structured_output_result  inside _validate_structured_output_result  inside _validate_structured_output_result  inside _validate_structured_output_result  inside _validate_structured_output_result  inside _validate_structured_output_result  inside _validate_structured_output_result  inside _validate_structured_output_result  inside _validate_structured_output_result  \n"
     ]
    }
   ],
   "source": [
    "import uuid\n",
    "\n",
    "\n",
    "lang_session = str(uuid.uuid4())\n",
    "agent_so_with_langfuse = Agent(\n",
    "    trace_attributes={\n",
    "        \"session.id\": \"aaron_%s\" % datetime.now().strftime(\"%Y%m%d%H%M%S\"), # Example session ID\n",
    "        \"user.id\": \"aaron_test@domain.com\",  # Example user ID\n",
    "        \"langfuse.tags\": [\n",
    "            \"Agent-SDK-Example\",\n",
    "            \"Strands-Project-Demo\",\n",
    "            \"Observability-Tutorial\",\n",
    "        ],\n",
    "    }\n",
    ")\n",
    "\n",
    "# Simple structured output\n",
    "agent_so_with_langfuse_result = agent_so_with_langfuse(\n",
    "    \"Create a user profile for Jake Johnson, age 35, software engineer, currently active\",\n",
    "    output_type=UserProfile\n",
    ")\n",
    "\n"
   ]
  },
  {
   "cell_type": "code",
   "execution_count": 31,
   "id": "25f1b5dc",
   "metadata": {},
   "outputs": [
    {
     "name": "stdout",
     "output_type": "stream",
     "text": [
      "I'll create a contact for Jake Johnson with his email and phone information.\n",
      "Tool #2: Contact\n",
      "inside _validate_structured_output_result  inside _validate_structured_output_result  inside _validate_structured_output_result  inside _validate_structured_output_result  inside _validate_structured_output_result  inside _validate_structured_output_result  inside _validate_structured_output_result  inside _validate_structured_output_result  inside _validate_structured_output_result  inside _validate_structured_output_result  inside _validate_structured_output_result  inside _validate_structured_output_result  inside _validate_structured_output_result  inside _validate_structured_output_result  inside _validate_structured_output_result  inside _validate_structured_output_result  inside _validate_structured_output_result  inside _validate_structured_output_result  inside _validate_structured_output_result  inside _validate_structured_output_result  inside _validate_structured_output_result  inside _validate_structured_output_result  inside _validate_structured_output_result  inside _validate_structured_output_result  inside _validate_structured_output_result  inside _validate_structured_output_result  inside _validate_structured_output_result  inside _validate_structured_output_result  inside _validate_structured_output_result  inside _validate_structured_output_result  \n"
     ]
    }
   ],
   "source": [
    "agent_so_with_langfuse_result2 = agent_so_with_langfuse(\n",
    "    \"Create a contact for Jake Johnson, who prefers email as form of contact at test@example.com and phone as secondary at 123-456-7890\",\n",
    "    output_type=Contact\n",
    ")"
   ]
  },
  {
   "cell_type": "code",
   "execution_count": 32,
   "id": "e7f59844",
   "metadata": {},
   "outputs": [
    {
     "name": "stdout",
     "output_type": "stream",
     "text": [
      "I'll create a user profile for Jake Johnson with the information you provided.\n",
      "Tool #3: UserProfile\n",
      "inside _validate_structured_output_result  inside _validate_structured_output_result  inside _validate_structured_output_result  inside _validate_structured_output_result  inside _validate_structured_output_result  inside _validate_structured_output_result  inside _validate_structured_output_result  inside _validate_structured_output_result  inside _validate_structured_output_result  inside _validate_structured_output_result  inside _validate_structured_output_result  inside _validate_structured_output_result  inside _validate_structured_output_result  inside _validate_structured_output_result  inside _validate_structured_output_result  inside _validate_structured_output_result  inside _validate_structured_output_result  inside _validate_structured_output_result  inside _validate_structured_output_result  inside _validate_structured_output_result  inside _validate_structured_output_result  inside _validate_structured_output_result  inside _validate_structured_output_result  inside _validate_structured_output_result  inside _validate_structured_output_result  inside _validate_structured_output_result  inside _validate_structured_output_result  inside _validate_structured_output_result  inside _validate_structured_output_result  inside _validate_structured_output_result  \n"
     ]
    }
   ],
   "source": [
    "agent_so_with_langfuse_result2 = agent_so_with_langfuse(\n",
    "    \"Create a user profile for Jake Johnson, age 35, software engineer, currently active\",\n",
    "    output_type=UserProfile\n",
    ")"
   ]
  },
  {
   "cell_type": "code",
   "execution_count": 33,
   "id": "08c98d40",
   "metadata": {},
   "outputs": [
    {
     "data": {
      "text/plain": [
       "{'total_cycles': 3,\n",
       " 'total_duration': 5.851504802703857,\n",
       " 'average_cycle_time': 1.9505016009012859,\n",
       " 'tool_usage': {'UserProfile': {'tool_info': {'tool_use_id': 'tooluse_hrJe9AslSem8VmBu49Bhmg',\n",
       "    'name': 'UserProfile',\n",
       "    'input_params': {'name': 'Jake Johnson',\n",
       "     'age': 35,\n",
       "     'occupation': 'software engineer',\n",
       "     'active': True}},\n",
       "   'execution_stats': {'call_count': 2,\n",
       "    'success_count': 2,\n",
       "    'error_count': 0,\n",
       "    'total_time': 0.002016782760620117,\n",
       "    'average_time': 0.0010083913803100586,\n",
       "    'success_rate': 1.0}},\n",
       "  'Contact': {'tool_info': {'tool_use_id': 'tooluse_KHZMNYEOQ32HlVhHY5WuNA',\n",
       "    'name': 'Contact',\n",
       "    'input_params': {'email': 'test@example.com',\n",
       "     'phone': '123-456-7890',\n",
       "     'preferred_method': 'email'}},\n",
       "   'execution_stats': {'call_count': 1,\n",
       "    'success_count': 1,\n",
       "    'error_count': 0,\n",
       "    'total_time': 0.0009572505950927734,\n",
       "    'average_time': 0.0009572505950927734,\n",
       "    'success_rate': 1.0}}},\n",
       " 'traces': [{'id': '55ee21a7-3e34-4ce5-a5c9-32f3d51869a3',\n",
       "   'name': 'Cycle 1',\n",
       "   'raw_name': None,\n",
       "   'parent_id': None,\n",
       "   'start_time': 1758230253.53789,\n",
       "   'end_time': 1758230256.202129,\n",
       "   'duration': 2.664238929748535,\n",
       "   'children': [{'id': 'cc3c2600-e649-482d-a03f-305863f468d3',\n",
       "     'name': 'stream_messages',\n",
       "     'raw_name': None,\n",
       "     'parent_id': '55ee21a7-3e34-4ce5-a5c9-32f3d51869a3',\n",
       "     'start_time': 1758230253.5379379,\n",
       "     'end_time': 1758230256.2005389,\n",
       "     'duration': 2.6626009941101074,\n",
       "     'children': [],\n",
       "     'metadata': {},\n",
       "     'message': {'role': 'assistant',\n",
       "      'content': [{'text': \"I'll create a user profile for Jake Johnson with the information you provided.\"},\n",
       "       {'toolUse': {'toolUseId': 'tooluse_h9Bi1Cw9QgGmhI_YL_X6DQ',\n",
       "         'name': 'UserProfile',\n",
       "         'input': {'name': 'Jake Johnson',\n",
       "          'age': 35,\n",
       "          'occupation': 'software engineer',\n",
       "          'active': True}}}]}},\n",
       "    {'id': '72b24f7c-9ac1-4d9e-98ed-6f518e427f39',\n",
       "     'name': 'Tool: UserProfile',\n",
       "     'raw_name': 'UserProfile - tooluse_h9Bi1Cw9QgGmhI_YL_X6DQ',\n",
       "     'parent_id': '55ee21a7-3e34-4ce5-a5c9-32f3d51869a3',\n",
       "     'start_time': 1758230256.2010188,\n",
       "     'end_time': 1758230256.2018828,\n",
       "     'duration': 0.0008640289306640625,\n",
       "     'children': [],\n",
       "     'metadata': {'toolUseId': 'tooluse_h9Bi1Cw9QgGmhI_YL_X6DQ',\n",
       "      'tool_name': 'UserProfile'},\n",
       "     'message': {'role': 'user',\n",
       "      'content': [{'toolResult': {'toolUseId': 'tooluse_h9Bi1Cw9QgGmhI_YL_X6DQ',\n",
       "         'status': 'success',\n",
       "         'content': [{'text': 'Successfully validated UserProfile structured output'}],\n",
       "         '_validated_object': UserProfile(name='Jake Johnson', age=35, occupation='software engineer', active=True)}}]}}],\n",
       "   'metadata': {},\n",
       "   'message': None},\n",
       "  {'id': 'ba7e3ba6-0fc3-42ac-be7d-2dffdc485f73',\n",
       "   'name': 'Cycle 2',\n",
       "   'raw_name': None,\n",
       "   'parent_id': None,\n",
       "   'start_time': 1758230256.2112,\n",
       "   'end_time': 1758230257.851132,\n",
       "   'duration': 1.6399319171905518,\n",
       "   'children': [{'id': 'fc7161a0-e238-4f8e-afd0-0679dd40e303',\n",
       "     'name': 'stream_messages',\n",
       "     'raw_name': None,\n",
       "     'parent_id': 'ba7e3ba6-0fc3-42ac-be7d-2dffdc485f73',\n",
       "     'start_time': 1758230256.211446,\n",
       "     'end_time': 1758230257.8491662,\n",
       "     'duration': 1.6377201080322266,\n",
       "     'children': [],\n",
       "     'metadata': {},\n",
       "     'message': {'role': 'assistant',\n",
       "      'content': [{'text': \"I'll create a contact for Jake Johnson with his email and phone information.\"},\n",
       "       {'toolUse': {'toolUseId': 'tooluse_KHZMNYEOQ32HlVhHY5WuNA',\n",
       "         'name': 'Contact',\n",
       "         'input': {'email': 'test@example.com',\n",
       "          'phone': '123-456-7890',\n",
       "          'preferred_method': 'email'}}}]}},\n",
       "    {'id': 'abce8410-2c08-4a14-9813-f4e021e4c917',\n",
       "     'name': 'Tool: Contact',\n",
       "     'raw_name': 'Contact - tooluse_KHZMNYEOQ32HlVhHY5WuNA',\n",
       "     'parent_id': 'ba7e3ba6-0fc3-42ac-be7d-2dffdc485f73',\n",
       "     'start_time': 1758230257.84983,\n",
       "     'end_time': 1758230257.850827,\n",
       "     'duration': 0.0009970664978027344,\n",
       "     'children': [],\n",
       "     'metadata': {'toolUseId': 'tooluse_KHZMNYEOQ32HlVhHY5WuNA',\n",
       "      'tool_name': 'Contact'},\n",
       "     'message': {'role': 'user',\n",
       "      'content': [{'toolResult': {'toolUseId': 'tooluse_KHZMNYEOQ32HlVhHY5WuNA',\n",
       "         'status': 'success',\n",
       "         'content': [{'text': 'Successfully validated Contact structured output'}],\n",
       "         '_validated_object': Contact(email='test@example.com', phone='123-456-7890', preferred_method='email')}}]}}],\n",
       "   'metadata': {},\n",
       "   'message': None},\n",
       "  {'id': '6c92eb9b-77a8-4ca1-93fe-50fafd5db928',\n",
       "   'name': 'Cycle 3',\n",
       "   'raw_name': None,\n",
       "   'parent_id': None,\n",
       "   'start_time': 1758230257.867106,\n",
       "   'end_time': 1758230259.41444,\n",
       "   'duration': 1.5473339557647705,\n",
       "   'children': [{'id': '76db9b5d-9705-46a3-a1e3-13b1d1358faa',\n",
       "     'name': 'stream_messages',\n",
       "     'raw_name': None,\n",
       "     'parent_id': '6c92eb9b-77a8-4ca1-93fe-50fafd5db928',\n",
       "     'start_time': 1758230257.867553,\n",
       "     'end_time': 1758230259.411668,\n",
       "     'duration': 1.5441150665283203,\n",
       "     'children': [],\n",
       "     'metadata': {},\n",
       "     'message': {'role': 'assistant',\n",
       "      'content': [{'text': \"I'll create a user profile for Jake Johnson with the information you provided.\"},\n",
       "       {'toolUse': {'toolUseId': 'tooluse_hrJe9AslSem8VmBu49Bhmg',\n",
       "         'name': 'UserProfile',\n",
       "         'input': {'name': 'Jake Johnson',\n",
       "          'age': 35,\n",
       "          'occupation': 'software engineer',\n",
       "          'active': True}}}]}},\n",
       "    {'id': '6335f555-9b11-4a2f-a7b8-2031b7fa313f',\n",
       "     'name': 'Tool: UserProfile',\n",
       "     'raw_name': 'UserProfile - tooluse_hrJe9AslSem8VmBu49Bhmg',\n",
       "     'parent_id': '6c92eb9b-77a8-4ca1-93fe-50fafd5db928',\n",
       "     'start_time': 1758230259.412779,\n",
       "     'end_time': 1758230259.41402,\n",
       "     'duration': 0.0012409687042236328,\n",
       "     'children': [],\n",
       "     'metadata': {'toolUseId': 'tooluse_hrJe9AslSem8VmBu49Bhmg',\n",
       "      'tool_name': 'UserProfile'},\n",
       "     'message': {'role': 'user',\n",
       "      'content': [{'toolResult': {'toolUseId': 'tooluse_hrJe9AslSem8VmBu49Bhmg',\n",
       "         'status': 'success',\n",
       "         'content': [{'text': 'Successfully validated UserProfile structured output'}],\n",
       "         '_validated_object': UserProfile(name='Jake Johnson', age=35, occupation='software engineer', active=True)}}]}}],\n",
       "   'metadata': {},\n",
       "   'message': None}],\n",
       " 'accumulated_usage': {'inputTokens': 2223,\n",
       "  'outputTokens': 354,\n",
       "  'totalTokens': 2577},\n",
       " 'accumulated_metrics': {'latencyMs': 5415}}"
      ]
     },
     "execution_count": 33,
     "metadata": {},
     "output_type": "execute_result"
    }
   ],
   "source": [
    "agent_so_with_langfuse_result.metrics.get_summary()"
   ]
  },
  {
   "cell_type": "markdown",
   "id": "201f356f",
   "metadata": {},
   "source": [
    "## Ordinary langfuse with agent"
   ]
  },
  {
   "cell_type": "code",
   "execution_count": 34,
   "id": "5965ccd0",
   "metadata": {},
   "outputs": [
    {
     "name": "stdout",
     "output_type": "stream",
     "text": [
      "I'll calculate 2 + 2 for you.\n",
      "Tool #1: calculator\n"
     ]
    },
    {
     "data": {
      "text/html": [
       "<pre style=\"white-space:pre;overflow-x:auto;line-height:normal;font-family:Menlo,'DejaVu Sans Mono',consolas,'Courier New',monospace\"><span style=\"color: #000080; text-decoration-color: #000080\">╭────────────────────────────────────────────── </span><span style=\"color: #000080; text-decoration-color: #000080; font-weight: bold\">Calculation Result</span><span style=\"color: #000080; text-decoration-color: #000080\"> ───────────────────────────────────────────────╮</span>\n",
       "<span style=\"color: #000080; text-decoration-color: #000080\">│</span>                                                                                                                 <span style=\"color: #000080; text-decoration-color: #000080\">│</span>\n",
       "<span style=\"color: #000080; text-decoration-color: #000080\">│</span>  ╭───────────┬─────────────────────╮                                                                            <span style=\"color: #000080; text-decoration-color: #000080\">│</span>\n",
       "<span style=\"color: #000080; text-decoration-color: #000080\">│</span>  │<span style=\"color: #008080; text-decoration-color: #008080\"> Operation </span>│<span style=\"color: #008000; text-decoration-color: #008000\"> Evaluate Expression </span>│                                                                            <span style=\"color: #000080; text-decoration-color: #000080\">│</span>\n",
       "<span style=\"color: #000080; text-decoration-color: #000080\">│</span>  │<span style=\"color: #008080; text-decoration-color: #008080\"> Input     </span>│<span style=\"color: #008000; text-decoration-color: #008000\"> 2 + 2               </span>│                                                                            <span style=\"color: #000080; text-decoration-color: #000080\">│</span>\n",
       "<span style=\"color: #000080; text-decoration-color: #000080\">│</span>  │<span style=\"color: #008080; text-decoration-color: #008080\"> Result    </span>│<span style=\"color: #008000; text-decoration-color: #008000\"> 4                   </span>│                                                                            <span style=\"color: #000080; text-decoration-color: #000080\">│</span>\n",
       "<span style=\"color: #000080; text-decoration-color: #000080\">│</span>  ╰───────────┴─────────────────────╯                                                                            <span style=\"color: #000080; text-decoration-color: #000080\">│</span>\n",
       "<span style=\"color: #000080; text-decoration-color: #000080\">│</span>                                                                                                                 <span style=\"color: #000080; text-decoration-color: #000080\">│</span>\n",
       "<span style=\"color: #000080; text-decoration-color: #000080\">╰─────────────────────────────────────────────────────────────────────────────────────────────────────────────────╯</span>\n",
       "</pre>\n"
      ],
      "text/plain": [
       "\u001b[34m╭─\u001b[0m\u001b[34m─────────────────────────────────────────────\u001b[0m\u001b[34m \u001b[0m\u001b[1;34mCalculation Result\u001b[0m\u001b[34m \u001b[0m\u001b[34m──────────────────────────────────────────────\u001b[0m\u001b[34m─╮\u001b[0m\n",
       "\u001b[34m│\u001b[0m                                                                                                                 \u001b[34m│\u001b[0m\n",
       "\u001b[34m│\u001b[0m  ╭───────────┬─────────────────────╮                                                                            \u001b[34m│\u001b[0m\n",
       "\u001b[34m│\u001b[0m  │\u001b[36m \u001b[0m\u001b[36mOperation\u001b[0m\u001b[36m \u001b[0m│\u001b[32m \u001b[0m\u001b[32mEvaluate Expression\u001b[0m\u001b[32m \u001b[0m│                                                                            \u001b[34m│\u001b[0m\n",
       "\u001b[34m│\u001b[0m  │\u001b[36m \u001b[0m\u001b[36mInput    \u001b[0m\u001b[36m \u001b[0m│\u001b[32m \u001b[0m\u001b[32m2 + 2              \u001b[0m\u001b[32m \u001b[0m│                                                                            \u001b[34m│\u001b[0m\n",
       "\u001b[34m│\u001b[0m  │\u001b[36m \u001b[0m\u001b[36mResult   \u001b[0m\u001b[36m \u001b[0m│\u001b[32m \u001b[0m\u001b[32m4                  \u001b[0m\u001b[32m \u001b[0m│                                                                            \u001b[34m│\u001b[0m\n",
       "\u001b[34m│\u001b[0m  ╰───────────┴─────────────────────╯                                                                            \u001b[34m│\u001b[0m\n",
       "\u001b[34m│\u001b[0m                                                                                                                 \u001b[34m│\u001b[0m\n",
       "\u001b[34m╰─────────────────────────────────────────────────────────────────────────────────────────────────────────────────╯\u001b[0m\n"
      ]
     },
     "metadata": {},
     "output_type": "display_data"
    },
    {
     "name": "stdout",
     "output_type": "stream",
     "text": [
      "The answer is **4**."
     ]
    }
   ],
   "source": [
    "import uuid\n",
    "\n",
    "\n",
    "agent_so_with_langfuse_ordinary = Agent(\n",
    "    tools=[calculator],\n",
    "    trace_attributes={\n",
    "        \"session.id\": \"aaron_%s\" % datetime.now().strftime(\"%Y%m%d%H%M%S\"), # Example session ID\n",
    "        \"user.id\": \"aaron_test@domain.com\",  # Example user ID\n",
    "        \"langfuse.tags\": [\n",
    "            \"Agent-SDK-Example\",\n",
    "            \"Strands-Project-Demo\",\n",
    "            \"Observability-Tutorial\",\n",
    "        ],\n",
    "    }\n",
    ")\n",
    "\n",
    "# Simple structured output\n",
    "agent_so_with_langfuse_ordinary_result = agent_so_with_langfuse_ordinary(\"What is 2 + 2?\")\n",
    "\n"
   ]
  },
  {
   "cell_type": "markdown",
   "id": "6a80e6da",
   "metadata": {},
   "source": [
    "## Streaming"
   ]
  },
  {
   "cell_type": "code",
   "execution_count": 35,
   "id": "c2055d2a",
   "metadata": {},
   "outputs": [],
   "source": [
    "def print_in_box(text):\n",
    "    border = '*' * (len(text) + 4)\n",
    "    print(border)\n",
    "    print(f'* {text} *')\n",
    "    print(border)\n"
   ]
  },
  {
   "cell_type": "code",
   "execution_count": 36,
   "id": "72af5109",
   "metadata": {},
   "outputs": [
    {
     "name": "stdout",
     "output_type": "stream",
     "text": [
      "🔹 Streaming Usage Example\n",
      "==================================================\n",
      "Streaming weather forecast generation...\n",
      "Real-time text: II'll'll generate a weather forecast generate a weather forecast for Seattle with for Seattle with the information the information you provided. you provided.\n",
      "Tool #1: WeatherForecast\n",
      "inside _validate_structured_output_result  inside _validate_structured_output_result  inside _validate_structured_output_result  inside _validate_structured_output_result  inside _validate_structured_output_result  inside _validate_structured_output_result  inside _validate_structured_output_result  inside _validate_structured_output_result  inside _validate_structured_output_result  inside _validate_structured_output_result  inside _validate_structured_output_result  inside _validate_structured_output_result  inside _validate_structured_output_result  inside _validate_structured_output_result  inside _validate_structured_output_result  inside _validate_structured_output_result  inside _validate_structured_output_result  inside _validate_structured_output_result  inside _validate_structured_output_result  inside _validate_structured_output_result  inside _validate_structured_output_result  inside _validate_structured_output_result  inside _validate_structured_output_result  inside _validate_structured_output_result  inside _validate_structured_output_result  inside _validate_structured_output_result  inside _validate_structured_output_result  inside _validate_structured_output_result  inside _validate_structured_output_result  inside _validate_structured_output_result  \n",
      "\n",
      "\n",
      "Structured forecast:\n",
      "====================================================================================================\n",
      "**************************************\n",
      "* <class '__main__.WeatherForecast'> *\n",
      "**************************************\n",
      "******************************************************************************************************************************************\n",
      "* {'location': 'Seattle', 'temperature': 68, 'condition': 'partly cloudy', 'humidity': 55, 'wind_speed': 8, 'forecast_date': 'tomorrow'} *\n",
      "******************************************************************************************************************************************\n",
      "====================================================================================================\n"
     ]
    }
   ],
   "source": [
    "print(\"🔹 Streaming Usage Example\")\n",
    "print(\"=\" * 50)\n",
    "\n",
    "from strands import Agent\n",
    "\n",
    "streaming_agent = Agent()\n",
    "\n",
    "print(\"Streaming weather forecast generation...\")\n",
    "print(\"Real-time text: \", end=\"\", flush=True)\n",
    "\n",
    "async for event in streaming_agent.stream_async(\n",
    "    \"Generate a weather forecast for Seattle: 68°F, partly cloudy, 55% humidity, 8 mph winds, for tomorrow\",\n",
    "    output_type=WeatherForecast\n",
    "):\n",
    "    if \"data\" in event:\n",
    "        # Real-time text streaming\n",
    "        print(event[\"data\"], end=\"\", flush=True)\n",
    "    elif \"result\" in event:\n",
    "        # Final structured output\n",
    "        print(\"\\n\\nStructured forecast:\")\n",
    "        if event[\"result\"].structured_output:\n",
    "            print(\"=\"*100)\n",
    "            forecast = event[\"result\"].structured_output\n",
    "            assert forecast is not None\n",
    "            print_in_box(str(type(forecast)))\n",
    "            print_in_box(str(forecast.model_dump()))\n",
    "            print(\"=\"*100)\n",
    "\n",
    "assert event['result'].structured_output is not None"
   ]
  },
  {
   "cell_type": "code",
   "execution_count": 37,
   "id": "4bf803a5",
   "metadata": {},
   "outputs": [
    {
     "data": {
      "text/plain": [
       "AgentResult(stop_reason='tool_use', message={'role': 'assistant', 'content': [{'text': \"I'll generate a weather forecast for Seattle with the information you provided.\"}, {'toolUse': {'toolUseId': 'tooluse_EOUAZDm6QQeN41gQlrnfhQ', 'name': 'WeatherForecast', 'input': {'location': 'Seattle', 'temperature': 68, 'condition': 'partly cloudy', 'humidity': 55, 'wind_speed': 8, 'forecast_date': 'tomorrow'}}}]}, metrics=EventLoopMetrics(cycle_count=1, tool_metrics={'WeatherForecast': ToolMetrics(tool={'toolUseId': 'tooluse_EOUAZDm6QQeN41gQlrnfhQ', 'name': 'WeatherForecast', 'input': {'location': 'Seattle', 'temperature': 68, 'condition': 'partly cloudy', 'humidity': 55, 'wind_speed': 8, 'forecast_date': 'tomorrow'}}, call_count=1, success_count=1, error_count=0, total_time=0.0002579689025878906)}, cycle_durations=[2.1957931518554688], traces=[<strands.telemetry.metrics.Trace object at 0x11a9cc220>], accumulated_usage={'inputTokens': 534, 'outputTokens': 161, 'totalTokens': 695}, accumulated_metrics={'latencyMs': 1963}), state={}, structured_output=WeatherForecast(location='Seattle', temperature=68, condition='partly cloudy', humidity=55, wind_speed=8, forecast_date='tomorrow'))"
      ]
     },
     "execution_count": 37,
     "metadata": {},
     "output_type": "execute_result"
    }
   ],
   "source": [
    "event['result']"
   ]
  },
  {
   "cell_type": "code",
   "execution_count": 38,
   "id": "7557a21a",
   "metadata": {},
   "outputs": [
    {
     "data": {
      "text/plain": [
       "WeatherForecast(location='Seattle', temperature=68, condition='partly cloudy', humidity=55, wind_speed=8, forecast_date='tomorrow')"
      ]
     },
     "execution_count": 38,
     "metadata": {},
     "output_type": "execute_result"
    }
   ],
   "source": [
    "event['result'].structured_output"
   ]
  },
  {
   "cell_type": "code",
   "execution_count": 39,
   "id": "bcb8bdd3",
   "metadata": {},
   "outputs": [
    {
     "name": "stdout",
     "output_type": "stream",
     "text": [
      "🔹 Streaming Usage Example\n",
      "==================================================\n",
      "Streaming weather forecast generation...\n",
      "Real-time text: #### Seattle Seattle Weather Forecast - Weather Forecast - Tomorrow\n",
      "\n",
      "** Tomorrow\n",
      "\n",
      "**Temperature:** 68Temperature:** 68°F  °F  \n",
      "**Conditions\n",
      "**Conditions:** Partly:** Partly Cloudy  Cloudy ☁️  ☁️  \n",
      "**Humidity\n",
      "**Humidity:** 55%:** 55%  \n",
      "**Win  \n",
      "**Wind:**d:** 8 mph 8 mph    \n",
      "\n",
      "###\n",
      "\n",
      "### Detaile Detailed Forecastd Forecast\n",
      "Tomorrow in\n",
      "Tomorrow in Seattle will bring Seattle will bring pleasant pleasant spring spring--like weather withlike weather with partly partly cloudy skies cloudy skies.. Expect Expect comfortable comfortable temperatures reaching temperatures reaching  68°F with68°F with a a mix mix of sun and clouds of sun and clouds throughout throughout the day. The the day. The moderate 55 moderate 55% humidity will make% humidity will make it feel quite it feel quite comfortable, while gentle comfortable, while gentle winds at winds at 8 mph 8 mph will provide will provide a nice breeze a nice breeze..\n",
      "\n",
      "###\n",
      "\n",
      "### What What to Expect to Expect\n",
      "-\n",
      "- ** **MorningMorning:** Cool:** Cool start start with increasing with increasing clou cloud breaksd breaks\n",
      "- **Afternoon\n",
      "- **Afternoon:** Peak:** Peak temperatures temperatures aroun around 68d 68°F with°F with partial partial sunshine\n",
      "- ** sunshine\n",
      "- **Evening:** ContinueEvening:** Continued partly cloudy conditionsd partly cloudy conditions\n",
      "\n",
      "###\n",
      "\n",
      "### Recommendations Recommendations\n",
      "- Light\n",
      "- Light layers layers recommended - recommended - perfect perfect weather for a weather for a swe sweater or light jacketater or light jacket\n",
      "- Great\n",
      "- Great day day for outdoor for outdoor activities like walking or activities like walking or dining dining al fresco al fresco\n",
      "- No\n",
      "- No umbre umbrella needed, butlla needed, but keep one keep one handy as handy as conditions conditions can can change quickly in change quickly in the the Pacific Northwest\n",
      "\n",
      "* Pacific Northwest\n",
      "\n",
      "*OverallOverall:: A lovely A lovely day with day with typical typical Seattle Seattle spring weather - spring weather - mil mild,d, comfortable comfortable, and partly, and partly sunny! sunny!**\n",
      "\n",
      "Structured forecast:\n"
     ]
    }
   ],
   "source": [
    "print(\"🔹 Streaming Usage Example\")\n",
    "print(\"=\" * 50)\n",
    "\n",
    "from strands import Agent\n",
    "\n",
    "streaming_agent = Agent()\n",
    "\n",
    "print(\"Streaming weather forecast generation...\")\n",
    "print(\"Real-time text: \", end=\"\", flush=True)\n",
    "\n",
    "async for event in streaming_agent.stream_async(\n",
    "    \"Generate a weather forecast for Seattle: 68°F, partly cloudy, 55% humidity, 8 mph winds, for tomorrow\"\n",
    "):\n",
    "    if \"data\" in event:\n",
    "        # Real-time text streaming\n",
    "        print(event[\"data\"], end=\"\", flush=True)\n",
    "    elif \"result\" in event:\n",
    "        # Final structured output\n",
    "        print(\"\\n\\nStructured forecast:\")\n",
    "        if event[\"result\"].structured_output:\n",
    "            print(\"=\"*100)\n"
   ]
  },
  {
   "cell_type": "code",
   "execution_count": null,
   "id": "1d92cd7c",
   "metadata": {},
   "outputs": [],
   "source": []
  },
  {
   "cell_type": "markdown",
   "id": "ab8bac49",
   "metadata": {},
   "source": [
    "### Model invocation after many invocations"
   ]
  },
  {
   "cell_type": "code",
   "execution_count": 40,
   "id": "d3e6d941",
   "metadata": {},
   "outputs": [],
   "source": [
    "# Example Models\n",
    "import random\n",
    "import string\n",
    "import json\n",
    "class Address(BaseModel):\n",
    "    \"\"\"A physical address\"\"\"\n",
    "    state: str = Field(description=\"State or province\")\n",
    "\n",
    "\n",
    "class Person(BaseModel):\n",
    "    \"\"\"A person's basic information\"\"\"\n",
    "    name: str = Field(description=\"Full name\")\n",
    "    age: int = Field(description=\"Age in years\", ge=0, le=150)\n",
    "\n",
    "\n",
    "class Company(BaseModel):\n",
    "    \"\"\"A company or organization\"\"\"\n",
    "    name: str = Field(description=\"Company name\")\n",
    "    address: Address = Field(description=\"Company address\")\n",
    "    employees: List[Person] = Field(description=\"list of persons\")\n"
   ]
  },
  {
   "cell_type": "code",
   "execution_count": 41,
   "id": "1711f8b1",
   "metadata": {},
   "outputs": [],
   "source": [
    "from strands.agent import Agent\n",
    "many_invocaitons = Agent(callback_handler=None)\n",
    "many_invocaitons_res = many_invocaitons(\"25 year old jack works at Amazon in NY\")"
   ]
  },
  {
   "cell_type": "code",
   "execution_count": 42,
   "id": "5514f27f",
   "metadata": {},
   "outputs": [
    {
     "name": "stdout",
     "output_type": "stream",
     "text": [
      "inside _validate_structured_output_result  inside _validate_structured_output_result  inside _validate_structured_output_result  inside _validate_structured_output_result  inside _validate_structured_output_result  inside _validate_structured_output_result  inside _validate_structured_output_result  inside _validate_structured_output_result  inside _validate_structured_output_result  inside _validate_structured_output_result  inside _validate_structured_output_result  inside _validate_structured_output_result  inside _validate_structured_output_result  inside _validate_structured_output_result  inside _validate_structured_output_result  inside _validate_structured_output_result  inside _validate_structured_output_result  inside _validate_structured_output_result  inside _validate_structured_output_result  inside _validate_structured_output_result  inside _validate_structured_output_result  inside _validate_structured_output_result  inside _validate_structured_output_result  inside _validate_structured_output_result  inside _validate_structured_output_result  inside _validate_structured_output_result  inside _validate_structured_output_result  inside _validate_structured_output_result  inside _validate_structured_output_result  inside _validate_structured_output_result  \n"
     ]
    }
   ],
   "source": [
    "many_invocaitons_res = many_invocaitons(\"100 year old Steven works at Amazon in NY\", output_type=Company)"
   ]
  },
  {
   "cell_type": "code",
   "execution_count": 43,
   "id": "12e05080",
   "metadata": {},
   "outputs": [
    {
     "data": {
      "text/plain": [
       "Company(name='Amazon', address=Address(state='New York'), employees=[Person(name='Jack', age=25), Person(name='Steven', age=100)])"
      ]
     },
     "execution_count": 43,
     "metadata": {},
     "output_type": "execute_result"
    }
   ],
   "source": [
    "many_invocaitons_res.structured_output"
   ]
  },
  {
   "cell_type": "code",
   "execution_count": null,
   "id": "4f1f1076",
   "metadata": {},
   "outputs": [],
   "source": []
  },
  {
   "cell_type": "code",
   "execution_count": null,
   "id": "7e89849c",
   "metadata": {},
   "outputs": [],
   "source": []
  },
  {
   "cell_type": "code",
   "execution_count": null,
   "id": "7504b99f",
   "metadata": {},
   "outputs": [],
   "source": []
  },
  {
   "cell_type": "code",
   "execution_count": null,
   "id": "0dd07bef",
   "metadata": {},
   "outputs": [],
   "source": []
  },
  {
   "cell_type": "code",
   "execution_count": null,
   "id": "04fd4d8f",
   "metadata": {},
   "outputs": [],
   "source": []
  },
  {
   "cell_type": "code",
   "execution_count": null,
   "id": "b852c8a1",
   "metadata": {},
   "outputs": [],
   "source": []
  },
  {
   "cell_type": "code",
   "execution_count": null,
   "id": "723b833a",
   "metadata": {},
   "outputs": [],
   "source": []
  },
  {
   "cell_type": "code",
   "execution_count": null,
   "id": "f2e3dacc",
   "metadata": {},
   "outputs": [],
   "source": []
  },
  {
   "cell_type": "code",
   "execution_count": null,
   "id": "78d9de0e",
   "metadata": {},
   "outputs": [],
   "source": []
  },
  {
   "cell_type": "code",
   "execution_count": 44,
   "id": "c9f005cb",
   "metadata": {},
   "outputs": [],
   "source": [
    "def example_complex_nested_model():\n",
    "    \"\"\"Complex nested model example.\"\"\"\n",
    "    print(\"🔹 Complex Nested Model Example\")\n",
    "    print(\"=\" * 50)\n",
    "    \n",
    "    from strands import Agent\n",
    "    \n",
    "    agent = Agent()\n",
    "    \n",
    "    employee_data = \"\"\"\n",
    "    Create an employee record:\n",
    "    - Name: Michael Chen\n",
    "    - Employee ID: 12345\n",
    "    - Department: Engineering\n",
    "    - Address: 456 Tech Street, San Francisco, CA 94105\n",
    "    - Email: michael.chen@company.com\n",
    "    - Phone: 555-0199\n",
    "    - Preferred contact: email\n",
    "    - Skills: Python, Machine Learning, Cloud Architecture, Team Leadership\n",
    "    - Hire date: January 15, 2020\n",
    "    - Salary range: $120,000 - $150,000\n",
    "    \"\"\"\n",
    "    \n",
    "    result = agent(employee_data, output_type=Employee)\n",
    "    \n",
    "    print(f\"Text response: {str(result).strip()}\")\n",
    "    if result.structured_output:\n",
    "        emp = result.structured_output\n",
    "        print(f\"Structured employee data:\")\n",
    "        print(f\"  Name: {emp.name} (ID: {emp.employee_id})\")\n",
    "        print(f\"  Department: {emp.department}\")\n",
    "        print(f\"  Address: {emp.address.street}, {emp.address.city}, {emp.address.state}\")\n",
    "        print(f\"  Contact: {emp.contact.email} ({emp.contact.preferred_method})\")\n",
    "        print(f\"  Skills: {', '.join(emp.skills)}\")\n",
    "        print(f\"  Hired: {emp.hire_date}\")\n",
    "        print(f\"  Salary: {emp.salary_range}\")\n",
    "    \n",
    "    print()\n",
    "\n",
    "def example_data_extraction():\n",
    "    \"\"\"Data extraction from unstructured text.\"\"\"\n",
    "    print(\"🔹 Data Extraction Example\")\n",
    "    print(\"=\" * 50)\n",
    "    \n",
    "    from strands import Agent\n",
    "    \n",
    "    agent = Agent()\n",
    "    \n",
    "    # Extract structured task list from meeting notes\n",
    "    meeting_notes = \"\"\"\n",
    "    Project Alpha Meeting Notes - March 20, 2024\n",
    "    \n",
    "    We discussed the upcoming website redesign project. Here are the key tasks:\n",
    "    - Design new homepage layout (high priority, due March 30)\n",
    "    - Update user authentication system \n",
    "    - Implement responsive mobile design\n",
    "    - Conduct user testing sessions\n",
    "    - Deploy to staging environment\n",
    "    \n",
    "    Estimated total effort: 40 hours\n",
    "    This is a high priority project that needs to be completed by March 30th.\n",
    "    \"\"\"\n",
    "    \n",
    "    result = agent(\n",
    "        f\"Extract a structured task list from these meeting notes:\\n{meeting_notes}\",\n",
    "        output_type=TaskList\n",
    "    )\n",
    "    \n",
    "    print(f\"Text response: {str(result).strip()}\")\n",
    "    if result.structured_output:\n",
    "        tasks = result.structured_output\n",
    "        print(f\"Extracted task list:\")\n",
    "        print(f\"  Project: {tasks.project_name}\")\n",
    "        print(f\"  Priority: {tasks.priority}\")\n",
    "        print(f\"  Due date: {tasks.due_date}\")\n",
    "        print(f\"  Estimated hours: {tasks.estimated_hours}\")\n",
    "        print(f\"  Tasks:\")\n",
    "        for i, task in enumerate(tasks.tasks, 1):\n",
    "            print(f\"    {i}. {task}\")\n",
    "    \n",
    "    print()\n",
    "\n",
    "def example_error_handling():\n",
    "    \"\"\"Error handling and fallback strategies.\"\"\"\n",
    "    print(\"🔹 Error Handling Example\")\n",
    "    print(\"=\" * 50)\n",
    "    \n",
    "    from strands import Agent\n",
    "    \n",
    "    agent = Agent()\n",
    "    \n",
    "    try:\n",
    "        # Attempt structured output with potentially challenging input\n",
    "        result = agent(\n",
    "            \"Generate some random data that might not fit the model perfectly\",\n",
    "            output_type=UserProfile\n",
    "        )\n",
    "        \n",
    "        if result.structured_output is not None:\n",
    "            print(\"✅ Structured output successful:\")\n",
    "            user = result.structured_output\n",
    "            print(f\"  Name: {user.name}\")\n",
    "            print(f\"  Age: {user.age}\")\n",
    "            print(f\"  Occupation: {user.occupation}\")\n",
    "        else:\n",
    "            print(\"⚠️ Structured output failed, but text is available:\")\n",
    "            print(f\"  Text: {str(result).strip()}\")\n",
    "            \n",
    "    except Exception as e:\n",
    "        print(f\"❌ Agent execution failed: {e}\")\n",
    "    \n",
    "    print()\n",
    "\n",
    "def example_metrics_monitoring():\n",
    "    \"\"\"Monitoring structured output performance.\"\"\"\n",
    "    print(\"🔹 Metrics Monitoring Example\")\n",
    "    print(\"=\" * 50)\n",
    "    \n",
    "    from strands import Agent\n",
    "    \n",
    "    agent = Agent()\n",
    "    \n",
    "    # Perform several structured output operations\n",
    "    for i in range(3):\n",
    "        result = agent(\n",
    "            f\"Create user profile #{i+1} with random data\",\n",
    "            output_type=UserProfile\n",
    "        )\n",
    "        \n",
    "        if result.structured_output:\n",
    "            print(f\"✅ Profile {i+1}: {result.structured_output.name}\")\n",
    "        else:\n",
    "            print(f\"❌ Profile {i+1}: Failed to parse\")\n",
    "    \n",
    "    # Check metrics\n",
    "    metrics = agent.event_loop_metrics.get_summary()\n",
    "    so_metrics = metrics.get('structured_output', {})\n",
    "    \n",
    "    print(f\"\\nStructured Output Metrics:\")\n",
    "    print(f\"  Attempts: {so_metrics.get('attempts', 0)}\")\n",
    "    print(f\"  Successes: {so_metrics.get('successes', 0)}\")\n",
    "    print(f\"  Success rate: {so_metrics.get('success_rate', 0):.1%}\")\n",
    "    print(f\"  Strategy used: {so_metrics.get('strategy_used', 'unknown')}\")\n",
    "    print(f\"  Avg parsing time: {so_metrics.get('average_parsing_time', 0):.3f}s\")\n",
    "    \n",
    "    print()\n",
    "\n",
    "def example_provider_comparison():\n",
    "    \"\"\"Compare different model providers.\"\"\"\n",
    "    print(\"🔹 Provider Comparison Example\")\n",
    "    print(\"=\" * 50)\n",
    "    \n",
    "    # This example shows how different providers can be used\n",
    "    # In practice, you would configure with your available models\n",
    "    \n",
    "    from strands import Agent\n",
    "    from strands.structured_output import StructuredOutputManager\n",
    "    \n",
    "    # Default agent (uses configured model)\n",
    "    agent = Agent()\n",
    "    \n",
    "    # Check what strategies are available\n",
    "    manager = StructuredOutputManager()\n",
    "    capabilities = manager.detect_provider_capabilities(agent.model)\n",
    "    \n",
    "    print(f\"Model: {agent.model.__class__.__name__}\")\n",
    "    print(f\"Available strategies: {capabilities}\")\n",
    "    \n",
    "    # Test structured output\n",
    "    result = agent(\n",
    "        \"Create a weather forecast for New York: 75°F, sunny, 40% humidity, 5 mph winds\",\n",
    "        output_type=WeatherForecast\n",
    "    )\n",
    "    \n",
    "    if result.structured_output:\n",
    "        print(f\"✅ Structured output successful with {agent.model.__class__.__name__}\")\n",
    "        forecast = result.structured_output\n",
    "        print(f\"  Location: {forecast.location}\")\n",
    "        print(f\"  Temperature: {forecast.temperature}°F\")\n",
    "    else:\n",
    "        print(f\"❌ Structured output failed with {agent.model.__class__.__name__}\")\n",
    "    \n",
    "    print()\n",
    "\n",
    "# # Main execution\n",
    "# async def run_all_examples():\n",
    "#     \"\"\"Run all examples in sequence.\"\"\"\n",
    "#     print(\"🚀 Strands Agents Structured Output Examples\")\n",
    "#     print(\"=\" * 60)\n",
    "#     print()\n",
    "    \n",
    "#     # Basic examples\n",
    "#     example_basic_usage()\n",
    "#     await example_async_usage()\n",
    "#     await example_streaming_usage()\n",
    "    \n",
    "#     # Advanced examples\n",
    "#     example_complex_nested_model()\n",
    "#     example_data_extraction()\n",
    "    \n",
    "#     # Operational examples\n",
    "#     example_error_handling()\n",
    "#     example_metrics_monitoring()\n",
    "#     example_provider_comparison()\n",
    "    \n",
    "#     print(\"🎉 All examples completed!\")\n",
    "#     print(\"\\nNext steps:\")\n",
    "#     print(\"• Try modifying the examples with your own models\")\n",
    "#     print(\"• Experiment with different model providers\")\n",
    "#     print(\"• Check the documentation for advanced features\")\n"
   ]
  },
  {
   "cell_type": "markdown",
   "id": "83d1ab99",
   "metadata": {},
   "source": [
    "## Test native mode:"
   ]
  },
  {
   "cell_type": "code",
   "execution_count": 45,
   "id": "5201417b",
   "metadata": {},
   "outputs": [],
   "source": [
    "\n",
    "from strands.models.openai import OpenAIModel\n",
    "from strands.output.modes import NativeOutput\n",
    "\n",
    "modelai = OpenAIModel(\n",
    "        model_id=\"gpt-4o\",\n",
    "        client_args={\n",
    "            \"api_key\": os.getenv(\"OPENAI_API_KEY\"),\n",
    "        },\n",
    "    )\n",
    "\n",
    "agent = Agent(model=modelai, callback_handler=None) \n",
    "result = agent(\"Tell me about John\", output_type=UserProfile, output_mode=NativeOutput())\n",
    "# Uses native output if supported, falls back to tool-based"
   ]
  },
  {
   "cell_type": "code",
   "execution_count": 46,
   "id": "397e0213",
   "metadata": {},
   "outputs": [
    {
     "data": {
      "text/plain": [
       "AgentResult(stop_reason='end_turn', message={'role': 'assistant', 'content': [{'text': 'Could you please provide more context or specify which John you are referring to? There are many notable people named John, and additional information would be helpful to provide a detailed response.'}]}, metrics=EventLoopMetrics(cycle_count=1, tool_metrics={}, cycle_durations=[1.9930009841918945], traces=[<strands.telemetry.metrics.Trace object at 0x11c616680>], accumulated_usage={'inputTokens': 27, 'outputTokens': 36, 'totalTokens': 63}, accumulated_metrics={'latencyMs': 0}), state={}, structured_output=UserProfile(name='John Doe', age=29, occupation='Software Engineer', active=True))"
      ]
     },
     "execution_count": 46,
     "metadata": {},
     "output_type": "execute_result"
    }
   ],
   "source": [
    "result"
   ]
  },
  {
   "cell_type": "code",
   "execution_count": 47,
   "id": "7fc2ae0c",
   "metadata": {},
   "outputs": [
    {
     "data": {
      "text/plain": [
       "UserProfile(name='John Doe', age=29, occupation='Software Engineer', active=True)"
      ]
     },
     "execution_count": 47,
     "metadata": {},
     "output_type": "execute_result"
    }
   ],
   "source": [
    "result.structured_output"
   ]
  },
  {
   "cell_type": "code",
   "execution_count": 48,
   "id": "c462dc12",
   "metadata": {},
   "outputs": [],
   "source": [
    "assert result.structured_output"
   ]
  },
  {
   "cell_type": "code",
   "execution_count": 49,
   "id": "015b7b59",
   "metadata": {},
   "outputs": [
    {
     "data": {
      "text/plain": [
       "[{'role': 'user', 'content': [{'text': 'Tell me about John'}]},\n",
       " {'role': 'assistant',\n",
       "  'content': [{'text': 'Could you please provide more context or specify which John you are referring to? There are many notable people named John, and additional information would be helpful to provide a detailed response.'}]}]"
      ]
     },
     "execution_count": 49,
     "metadata": {},
     "output_type": "execute_result"
    }
   ],
   "source": [
    "agent.messages"
   ]
  },
  {
   "cell_type": "code",
   "execution_count": 50,
   "id": "cc89b32e",
   "metadata": {},
   "outputs": [],
   "source": [
    "assert 'toolUse' not in str(agent.messages)"
   ]
  },
  {
   "cell_type": "code",
   "execution_count": null,
   "id": "82ee8711",
   "metadata": {},
   "outputs": [],
   "source": []
  },
  {
   "cell_type": "code",
   "execution_count": null,
   "id": "b764df06",
   "metadata": {},
   "outputs": [],
   "source": []
  },
  {
   "cell_type": "markdown",
   "id": "74e4e938",
   "metadata": {},
   "source": [
    "### Test the LLM calls it again if it fails on the first try (for example validation issue)"
   ]
  },
  {
   "cell_type": "code",
   "execution_count": 14,
   "id": "ca9a8b59",
   "metadata": {},
   "outputs": [
    {
     "name": "stderr",
     "output_type": "stream",
     "text": [
      "Structured output validation failed for Name: Validation failed for Name. Please fix the following errors:\n",
      "- Field 'first_name': Value error, You must append 'abc' to the end of my name\n",
      "Structured output tool Name returned error status: error\n"
     ]
    },
    {
     "name": "stdout",
     "output_type": "stream",
     "text": [
      "inside _validate_structured_output_result  inside _validate_structured_output_result  inside _validate_structured_output_result  inside _validate_structured_output_result  inside _validate_structured_output_result  inside _validate_structured_output_result  inside _validate_structured_output_result  inside _validate_structured_output_result  inside _validate_structured_output_result  inside _validate_structured_output_result  inside _validate_structured_output_result  inside _validate_structured_output_result  inside _validate_structured_output_result  inside _validate_structured_output_result  inside _validate_structured_output_result  inside _validate_structured_output_result  inside _validate_structured_output_result  inside _validate_structured_output_result  inside _validate_structured_output_result  inside _validate_structured_output_result  inside _validate_structured_output_result  inside _validate_structured_output_result  inside _validate_structured_output_result  inside _validate_structured_output_result  inside _validate_structured_output_result  inside _validate_structured_output_result  inside _validate_structured_output_result  inside _validate_structured_output_result  inside _validate_structured_output_result  inside _validate_structured_output_result  \n",
      "inside _validate_structured_output_result  inside _validate_structured_output_result  inside _validate_structured_output_result  inside _validate_structured_output_result  inside _validate_structured_output_result  inside _validate_structured_output_result  inside _validate_structured_output_result  inside _validate_structured_output_result  inside _validate_structured_output_result  inside _validate_structured_output_result  inside _validate_structured_output_result  inside _validate_structured_output_result  inside _validate_structured_output_result  inside _validate_structured_output_result  inside _validate_structured_output_result  inside _validate_structured_output_result  inside _validate_structured_output_result  inside _validate_structured_output_result  inside _validate_structured_output_result  inside _validate_structured_output_result  inside _validate_structured_output_result  inside _validate_structured_output_result  inside _validate_structured_output_result  inside _validate_structured_output_result  inside _validate_structured_output_result  inside _validate_structured_output_result  inside _validate_structured_output_result  inside _validate_structured_output_result  inside _validate_structured_output_result  inside _validate_structured_output_result  \n"
     ]
    }
   ],
   "source": [
    "from strands.agent import Agent\n",
    "class Name(BaseModel):\n",
    "    first_name: str\n",
    "\n",
    "    @field_validator(\"first_name\")\n",
    "    @classmethod\n",
    "    def validate_first_name(cls, value: str) -> str:\n",
    "        if not value.endswith('abc'):\n",
    "            raise ValueError(\"You must append 'abc' to the end of my name\")\n",
    "        return value \n",
    "\n",
    "agent = Agent(callback_handler=None) \n",
    "result = agent(\"Whats Aaron's name?\", output_type=Name)"
   ]
  },
  {
   "cell_type": "code",
   "execution_count": 15,
   "id": "0b590625",
   "metadata": {},
   "outputs": [
    {
     "data": {
      "text/plain": [
       "AgentResult(stop_reason='tool_use', message={'role': 'assistant', 'content': [{'text': \"I see there's a validation requirement. Let me correct that:\"}, {'toolUse': {'toolUseId': 'tooluse_IuwQTcWYQNezNb7Y-LKt_A', 'name': 'Name', 'input': {'first_name': 'Aaronabc'}}}]}, metrics=EventLoopMetrics(cycle_count=2, tool_metrics={'Name': ToolMetrics(tool={'toolUseId': 'tooluse_IuwQTcWYQNezNb7Y-LKt_A', 'name': 'Name', 'input': {'first_name': 'Aaronabc'}}, call_count=2, success_count=1, error_count=1, total_time=0.002743959426879883)}, cycle_durations=[2.4125640392303467], traces=[<strands.telemetry.metrics.Trace object at 0x10bd58190>, <strands.telemetry.metrics.Trace object at 0x10bd58220>], accumulated_usage={'inputTokens': 921, 'outputTokens': 139, 'totalTokens': 1060}, accumulated_metrics={'latencyMs': 4217}), state={}, structured_output=Name(first_name='Aaronabc'))"
      ]
     },
     "execution_count": 15,
     "metadata": {},
     "output_type": "execute_result"
    }
   ],
   "source": [
    "result"
   ]
  },
  {
   "cell_type": "code",
   "execution_count": 16,
   "id": "1c8e761c",
   "metadata": {},
   "outputs": [
    {
     "data": {
      "text/plain": [
       "Name(first_name='Aaronabc')"
      ]
     },
     "execution_count": 16,
     "metadata": {},
     "output_type": "execute_result"
    }
   ],
   "source": [
    "result.structured_output"
   ]
  },
  {
   "cell_type": "code",
   "execution_count": 17,
   "id": "0b084666",
   "metadata": {},
   "outputs": [
    {
     "data": {
      "text/plain": [
       "[{'role': 'user', 'content': [{'text': \"Whats Aaron's name?\"}]},\n",
       " {'role': 'assistant',\n",
       "  'content': [{'text': \"I can help you extract Aaron's name using the available tool.\"},\n",
       "   {'toolUse': {'toolUseId': 'tooluse_Jz272gvUQqmLQZCttasupA',\n",
       "     'name': 'Name',\n",
       "     'input': {'first_name': 'Aaron'}}}]},\n",
       " {'role': 'user',\n",
       "  'content': [{'toolResult': {'toolUseId': 'tooluse_Jz272gvUQqmLQZCttasupA',\n",
       "     'status': 'error',\n",
       "     'content': [{'text': \"Validation failed for Name. Please fix the following errors:\\n- Field 'first_name': Value error, You must append 'abc' to the end of my name\"}]}}]},\n",
       " {'role': 'assistant',\n",
       "  'content': [{'text': \"I see there's a validation requirement. Let me correct that:\"},\n",
       "   {'toolUse': {'toolUseId': 'tooluse_IuwQTcWYQNezNb7Y-LKt_A',\n",
       "     'name': 'Name',\n",
       "     'input': {'first_name': 'Aaronabc'}}}]},\n",
       " {'role': 'user',\n",
       "  'content': [{'toolResult': {'toolUseId': 'tooluse_IuwQTcWYQNezNb7Y-LKt_A',\n",
       "     'status': 'success',\n",
       "     'content': [{'text': 'Successfully validated Name structured output'}],\n",
       "     '_validated_object': Name(first_name='Aaronabc')}}]}]"
      ]
     },
     "execution_count": 17,
     "metadata": {},
     "output_type": "execute_result"
    }
   ],
   "source": [
    "agent.messages"
   ]
  },
  {
   "cell_type": "code",
   "execution_count": null,
   "id": "88437e72",
   "metadata": {},
   "outputs": [],
   "source": []
  }
 ],
 "metadata": {
  "kernelspec": {
   "display_name": ".venv",
   "language": "python",
   "name": "python3"
  },
  "language_info": {
   "codemirror_mode": {
    "name": "ipython",
    "version": 3
   },
   "file_extension": ".py",
   "mimetype": "text/x-python",
   "name": "python",
   "nbconvert_exporter": "python",
   "pygments_lexer": "ipython3",
   "version": "3.10.18"
  }
 },
 "nbformat": 4,
 "nbformat_minor": 5
}
